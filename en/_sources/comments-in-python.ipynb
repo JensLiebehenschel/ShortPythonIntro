{
 "cells": [
  {
   "cell_type": "markdown",
   "id": "f1f0ed9d",
   "metadata": {},
   "source": [
    "# Comments in Python\n",
    "\n",
    "(Click [here](https://jensliebehenschel.github.io/ShortPythonIntro/de/erstellen-von-kommentaren.html) for the German version of this page)"
   ]
  },
  {
   "cell_type": "markdown",
   "id": "c12aecac",
   "metadata": {},
   "source": [
    "Comments in Python are relatively simple. There is just one way to create comments.\n",
    "When a pound symbol (<code>#</code>) appears outside of a string, then everything to the right of the symbol in the given line is treated as a comment.\n",
    "\n",
    "```Python\n",
    "x = 5 # Assign the value 5 to x\n",
    "#      ^^^^^^^^^^^^^^^^^^^^^^^^\n",
    "# Code comment\n",
    "```\n",
    "\n",
    "Normally, there is no way to create a comment spanning over multiple lines, such as in C/C++/Java with \n",
    "```C\n",
    "/*\n",
    "    This is a comment\n",
    "    This is also a comment\n",
    "    And this is also a comment\n",
    "*/\n",
    "```\n",
    "Therefore one would have to comment out the lines individually in Python.\n",
    "\n",
    "```Python\n",
    "#   This is a comment\n",
    "#   This is also a comment\n",
    "#   And this is also a comment\n",
    "```\n",
    "\n",
    "To make it a little bit simpler, it is possible to treat the content to be commented out, as a string without any assignment. Since the string is not assigned, it will just be ignored.\n",
    "A string spanning over multiple lines can be created using so-called \"triple quotes\", which refers to three sequential double quotes."
   ]
  },
  {
   "cell_type": "markdown",
   "id": "3128f906",
   "metadata": {},
   "source": [
    "## Exercise"
   ]
  },
  {
   "cell_type": "markdown",
   "id": "189309b0",
   "metadata": {},
   "source": [
    "Now it is your turn!\n",
    "Please modify the below program **WITHOUT** removing code or moving it to a different spot, so that the program outputs \"Hello World!\".\n",
    "You are allowed to use triple quotes (<code>\"\"\"</code>)."
   ]
  },
  {
   "cell_type": "code",
   "execution_count": 1,
   "id": "5460902f",
   "metadata": {},
   "outputs": [
    {
     "name": "stdout",
     "output_type": "stream",
     "text": [
      "5050\n"
     ]
    }
   ],
   "source": [
    "my_output = \"Hello World!\"\n",
    "\n",
    "my_output = 0\n",
    "\n",
    "for i in range(1, 100+1):\n",
    "    \n",
    "    my_output += i\n",
    "\n",
    "print(my_output)"
   ]
  },
  {
   "cell_type": "markdown",
   "id": "6dd8063d",
   "metadata": {
    "tags": []
   },
   "source": [
    ":::{admonition} Solution\n",
    ":class: dropdown\n",
    "\n",
    "```Python\n",
    "my_output = \"Hello World!\"\n",
    "\"\"\"\n",
    "my_output = 0\n",
    "\n",
    "for i in range(1, 100+1):\n",
    "    \n",
    "    my_output += i\n",
    "\"\"\"\n",
    "print(my_output)\n",
    "# --> \"Hello World!\"\n",
    "```"
   ]
  }
 ],
 "metadata": {
  "kernelspec": {
   "display_name": "Python 3 (ipykernel)",
   "language": "python",
   "name": "python3"
  },
  "language_info": {
   "codemirror_mode": {
    "name": "ipython",
    "version": 3
   },
   "file_extension": ".py",
   "mimetype": "text/x-python",
   "name": "python",
   "nbconvert_exporter": "python",
   "pygments_lexer": "ipython3",
   "version": "3.9.13"
  }
 },
 "nbformat": 4,
 "nbformat_minor": 5
}
