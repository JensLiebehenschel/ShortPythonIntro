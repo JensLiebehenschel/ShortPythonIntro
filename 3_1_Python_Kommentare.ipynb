{
 "cells": [
  {
   "cell_type": "markdown",
   "id": "8424c40f-90f1-4fb9-a69b-a772f31de409",
   "metadata": {},
   "source": [
    "# Kommentare in Python"
   ]
  },
  {
   "cell_type": "markdown",
   "id": "233ce084-2c98-469f-8d49-39fa0cafba33",
   "metadata": {},
   "source": [
    "Kommentare in Python sind relativ simpel. Es gibt nur einen Weg Kommentare zu erstellen.\n",
    "Wenn außerhalb eines Strings ein Rautezeichen(#) vorkommt, so wird alles was in dieser Zeile rechts vom Rautezeichen steht, als Kommentar gewertet"
   ]
  },
  {
   "cell_type": "code",
   "execution_count": 1,
   "id": "c31fb97b-79c6-4d2f-91c0-47cefb0780f1",
   "metadata": {},
   "outputs": [],
   "source": [
    "x = 5 # Gib x den Wert 5\n",
    "#\t   ^^^^^^^^^^^^^^^^^\n",
    "#Code  Kommentar"
   ]
  },
  {
   "cell_type": "markdown",
   "id": "39ae9a61-5b2b-4f3a-b8a9-735c1290f208",
   "metadata": {},
   "source": [
    "Es gibt eigentlich keinen Weg, einen Kommentar über mehrere Zeilen hinweg zu machen\n",
    "wie in C/C++/Java mit\n",
    "/*\n",
    "\tDas ist kommentar\n",
    "\tDas hier auch\n",
    "\tDas hier ebenfalls\n",
    "*/\n",
    "\n",
    "Somit muss man in Python jede Zeile einzeln auskommentieren."
   ]
  },
  {
   "cell_type": "code",
   "execution_count": 2,
   "id": "bbd503ce-27e1-4dad-a880-add0b32fa175",
   "metadata": {},
   "outputs": [],
   "source": [
    "#\tDas ist ein kommentar\n",
    "#\tDas hier auch\n",
    "#\tDas hier ebenfalls"
   ]
  },
  {
   "cell_type": "markdown",
   "id": "76163276-cdcb-40f6-8e04-c36452760fbc",
   "metadata": {},
   "source": [
    "Um das Leben einfacher zu machen, ist es jedoch trotzdessen möglich etwas ähnliches zu erzielen indem man den auszukommentierenden Inhalt als einen String ohne Zuweisung speichert. Somit fällt der betroffene Code weg.\n",
    "Das Funktioniert indem man jeweils am Anfang und Ende des auszukommentierenden Bereichs sogenannte \"triple quotes\" einfügt. Damit bezeichnet man drei aufeinanderfolgende Anführungszeichen."
   ]
  },
  {
   "cell_type": "markdown",
   "id": "479aa34a-05a1-420b-a247-dbd83573591a",
   "metadata": {},
   "source": [
    "Jetzt sind Sie an der Reihe!\n",
    "Sorgen sie **OHNE** Code zu entfernen oder zu verschieben dafür, dass der Output \"Hello World!\" geprinted wird.\n",
    "Sie dürfen nur zwei triple quotes (\"\"\") nutzen"
   ]
  },
  {
   "cell_type": "code",
   "execution_count": 3,
   "id": "409404d9-933e-4d78-bc7a-30cc4ae7a10e",
   "metadata": {},
   "outputs": [
    {
     "name": "stdout",
     "output_type": "stream",
     "text": [
      "5050\n"
     ]
    }
   ],
   "source": [
    "my_output = \"Hello World!\"\n",
    "\n",
    "\n",
    "my_output = 0\n",
    "for i in range(1, 100+1):\n",
    "    my_output += i\n",
    "\n",
    "\n",
    "print(my_output)"
   ]
  },
  {
   "cell_type": "markdown",
   "id": "61ec99b5-ba87-4690-be6d-25f2960b14bc",
   "metadata": {},
   "source": [
    "## Solution"
   ]
  },
  {
   "cell_type": "markdown",
   "id": "eb0801af-2b37-45f9-b1b9-cd695df57106",
   "metadata": {
    "tags": [
     "hide-cell"
    ]
   },
   "source": [
    "```Python\n",
    "my_output = \"Hello World!\"\n",
    "\n",
    "# Dieser Code geht über mehrere Zeilen und soll \"auskommentiert\" werden\n",
    "\n",
    "\"\"\"\n",
    "my_output = 0\n",
    "for i in range(1, 100+1):\n",
    "    sum += i\n",
    "\"\"\"\n",
    "\n",
    "print(my_output)\n",
    "```"
   ]
  }
 ],
 "metadata": {
  "kernelspec": {
   "display_name": "Python 3 (ipykernel)",
   "language": "python",
   "name": "python3"
  },
  "language_info": {
   "codemirror_mode": {
    "name": "ipython",
    "version": 3
   },
   "file_extension": ".py",
   "mimetype": "text/x-python",
   "name": "python",
   "nbconvert_exporter": "python",
   "pygments_lexer": "ipython3",
   "version": "3.9.13"
  }
 },
 "nbformat": 4,
 "nbformat_minor": 5
}
