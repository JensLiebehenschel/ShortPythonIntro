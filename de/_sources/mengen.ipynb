{
 "cells": [
  {
   "cell_type": "markdown",
   "metadata": {},
   "source": [
    "# Mengen\n",
    "(Klicken Sie [hier](https://jensliebehenschel.github.io/ShortPythonIntro/en/sets.html) für die englische Version dieser Seite)"
   ]
  },
  {
   "cell_type": "markdown",
   "metadata": {},
   "source": [
    "Eine Menge ist eine ungeordnete Sammlung an Elementen, wo es keine Duplikate geben kann.\n",
    "\n",
    "Man kann mit Mengen in Python genauso arbeiten wie man es von mathematischen Mengen gewöhnt ist.\n",
    "\n",
    "Da es eine ungeordnete Sammlung von Elementen ist, sollte man sich bei einer Menge nicht darauf verlassen, dass u.a. die Elemente in der Reihenfolge vorliegen, wie man sie eingefügt hat. \n",
    "Dafür sollte man eher eine geordnete Sammlung wie z.B. eine Liste nutzen.\n",
    "\n",
    "Zusätzlich müssen die Elemente in der Menge, im Gegensatz zu Listen, unveränderlich (immutable) sein. Also die gleiche Anforderung wie Schlüssel in einem Dictionary.\n",
    "\n",
    "## Syntax\n",
    "Die Syntax für Mengen ist sehr ähnlich zu Listen. Der einzige Unterschied ist, dass anstatt eckiger Klammern, geschweifte Klammern genutzt werden. Sonst ist die Erstellung identisch.\n",
    "```py\n",
    "liste = [1, 2, 3]\n",
    "menge = {1, 2, 3}\n",
    "```\n",
    "\n",
    "Da die gleichen Trennzeichen (<code>{</code> und <code>}</code>) wie für Dictionaries genutzt werden, ist es nicht ganz klar, was unter <code>{}</code> verstanden werden soll. \n",
    "Es könnte entweder eine leere Menge darstellen oder ein leeres Dictionary. Python löst es, indem <code>{}</code> als ein leeres Dictionary definiert wird. \n",
    "Um eine leere Menge zu erstellen, soll stattdessen die Funktion <code>set()</code> genutzt werden\n",
    "\n",
    "```py\n",
    "print(type( {} ))\n",
    "# --> <class 'dict'>\n",
    "\n",
    "print(type( set() ))\n",
    "# --> <class 'set'>\n",
    "```\n",
    "\n",
    "## Hinzufügen und Löschen von Elementen in einer Menge\n",
    "Um ein Elemente in eine Menge hinzuzufügen, wird die Funktion <code>Menge.add(Element)</code> genutzt. Wenn man mit <code>Menge.add(Element)</code> versucht ein Element hinzuzufügen, welches in der Menge bereits existiert, wird die Menge nicht verändert.\n",
    "```py\n",
    "menge = {1, 2, 3}\n",
    "menge.add(5)\n",
    "menge.add(4)\n",
    "menge.add(4)\n",
    "print(menge)\n",
    "# --> {1, 2, 3, 4, 5}\n",
    "# Man beachte hier, dass die 5 vor der 4 eingefügt wurde,\n",
    "# aber bei der Ausgabe die 4 trotzdem vor der 5 kommt.\n",
    "# Das liegt daran, dass Mengen eine\n",
    "# ungeordnete Datenstruktur sind und die Reihenfolge\n",
    "# der Elemente nicht garantiert wird.\n",
    "```\n",
    "\n",
    "Mit <code>Menge.remove(Element)</code> kann man ein Element aus einer Menge entfernen.\n",
    "```py\n",
    "menge = {1, 2, 3}\n",
    "menge.remove(3)\n",
    "print(menge)\n",
    "# --> {1, 2}\n",
    "```\n",
    "\n",
    "## Überprüfen ob ein Element in der Menge enthalten ist\n",
    "Mit dem Keyword <code>in</code> kann man überprüfen ob ein Element in einer Menge enthalten ist.\n",
    "```py\n",
    "planeten = {\"Erde\", \"Saturn\", \"Mars\"}\n",
    "\n",
    "print( \"Saturn\" in planeten )\n",
    "# --> True\n",
    "\n",
    "print( \"Pluto\" in planeten )\n",
    "# --> False\n",
    "```\n",
    "\n",
    "## Mengenoperationen\n",
    "Interessant bei Mengen sind die Mengenoperationen, welche ausgeführt werden können.\n",
    "Zu den Mengenoperationen gehören z.B. Vereinigung, Schnittmenge, Differenz und symmetrische Differenz.\n",
    "\n",
    "Die Vereinigung $A \\cup B$ kann mit der Methode <code>A.union(B)</code> oder kurz <code>A | B</code> berechnet werden.\n",
    "\n",
    "Die Schnittmenge $A \\cap B$ kann mit der Methode <code>A.intersection(B)</code> oder kurz mit <code>A & B</code> berechnet werden.\n",
    "\n",
    "Die Differenz $A \\setminus B$ kann mit der Methode <code>A.difference(B)</code> oder kurz mit <code>A - B</code> berechnet werden.\n",
    "\n",
    "Die symmetrische Differenz $A \\triangle B$ kann mit der Methode <code>A.symmetric_difference(B)</code> oder kurz mit <code>A ^ B</code> berechnet werden.\n",
    "\n",
    "```py\n",
    "a = {1, 2, 3}\n",
    "b = {3, 4, 5}\n",
    "\n",
    "print( a.union(b) ) # a | b\n",
    "# --> {1, 2, 3, 4, 5}\n",
    "\n",
    "print( a.intersection(b) ) # a & b\n",
    "# --> {3}\n",
    "\n",
    "print( a.difference(b) ) # a - b\n",
    "# --> {1, 2}\n",
    "\n",
    "print( a.symmetric_difference(b) ) # a ^ b\n",
    "# --> {1, 2, 4, 5}\n",
    "```"
   ]
  },
  {
   "cell_type": "markdown",
   "metadata": {},
   "source": [
    "## Aufgabe"
   ]
  },
  {
   "cell_type": "markdown",
   "metadata": {},
   "source": [
    "Nutzen Sie Mengenoperationen, um den gegebenen Ausdruck nachzuprogrammieren.\n",
    "\n",
    "$$(A \\cup B) \\cap B \\setminus (D \\triangle C)$$"
   ]
  },
  {
   "cell_type": "code",
   "execution_count": 1,
   "metadata": {},
   "outputs": [
    {
     "name": "stdout",
     "output_type": "stream",
     "text": [
      "Ellipsis\n"
     ]
    }
   ],
   "source": [
    "# Hier können Sie ihren Versuch schreiben...\n",
    "A = {1, 2, 3}\n",
    "B = {6, 7, 1}\n",
    "C = {6}\n",
    "D = {6, 7, 3}\n",
    "\n",
    "ergebnis = ...\n",
    "print(ergebnis)"
   ]
  },
  {
   "cell_type": "markdown",
   "metadata": {},
   "source": [
    ":::{admonition} Lösung\n",
    ":class: dropdown\n",
    "\n",
    "```Python\n",
    "A = {1, 2, 3}\n",
    "B = {6, 7, 1}\n",
    "C = {6}\n",
    "D = {6, 7, 3}\n",
    "\n",
    "ergebnis = A.union(B).intersection(B).difference(D.symmetric_difference(C))\n",
    "print(ergebnis)\n",
    "# --> {1, 6}\n",
    "\n",
    "ergebnis = ((A | B) & B) - (D ^ C)\n",
    "print(ergebnis)\n",
    "# --> {1, 6}\n",
    "```\n",
    "\n",
    "Als Ergebnis sollte die Menge <code>{1, 6}</code> herauskommen.\n",
    "\n",
    ":::"
   ]
  }
 ],
 "metadata": {
  "kernelspec": {
   "display_name": "py311",
   "language": "python",
   "name": "python3"
  },
  "language_info": {
   "codemirror_mode": {
    "name": "ipython",
    "version": 3
   },
   "file_extension": ".py",
   "mimetype": "text/x-python",
   "name": "python",
   "nbconvert_exporter": "python",
   "pygments_lexer": "ipython3",
   "version": "3.11.5"
  }
 },
 "nbformat": 4,
 "nbformat_minor": 2
}
