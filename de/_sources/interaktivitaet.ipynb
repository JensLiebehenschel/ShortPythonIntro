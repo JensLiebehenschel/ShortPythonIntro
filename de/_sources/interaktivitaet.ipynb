{
 "cells": [
  {
   "cell_type": "markdown",
   "id": "8f73940a",
   "metadata": {},
   "source": [
    "# Interaktivität dieser Einführung\n",
    "(Klicken Sie [hier](https://jensliebehenschel.github.io/ShortPythonIntro/en/interactivity.html) für die englische Version dieser Seite)"
   ]
  },
  {
   "cell_type": "markdown",
   "id": "3d616f74",
   "metadata": {},
   "source": [
    "## Interaktivität aktivieren"
   ]
  },
  {
   "cell_type": "markdown",
   "id": "49cbac51",
   "metadata": {},
   "source": [
    "In dieser Einführung können Sie interaktiv kleine Programmieraufgaben lösen.\n",
    "Sie können Code schreiben und diesen, ohne die Webseite verlassen zu müssen, ausführen lassen. \n",
    "So können Sie einerseits ihr Ergebnis überprüfen, andererseits aber auch gegebenenfalls durch Fehlernachrichten dazulernen. \n",
    "\n",
    "Dafür müssen Sie lediglich die Interaktivität aktivieren.\n",
    "\n",
    "Nicht jede Seite ist interaktiv. Interaktive Seiten erkennen Sie an der Rakete über der Überschrift. Bewegen Sie ihre Maus über die Rakete und drücken sie auf den Knopf <code>Live Code</code>. \n",
    "Bereiche zum Schreiben von Code, erkennen Sie an den drei Knöpfen <code>run</code>, <code>restart</code> und <code>restart &amp; run all</code>. Bei dieser Einführung brauchen Sie nur den Knopf <code>run</code>. Die restlichen Knöpfe können Sie ignorieren.\n",
    "\n",
    "<video width=\"100%\" height=\"auto\" autoplay muted controls disablePictureInPicture loop>\n",
    "  <source src=\"https://raw.githubusercontent.com/JensLiebehenschel/ShortPythonIntro/refs/heads/main/src/de/interaktivitaet_aktivieren.mp4\" type=\"video/mp4\">\n",
    "</video> "
   ]
  },
  {
   "cell_type": "markdown",
   "id": "96431fdf",
   "metadata": {},
   "source": [
    "## Interaktivität ausprobieren"
   ]
  },
  {
   "cell_type": "markdown",
   "id": "1c4cb169",
   "metadata": {},
   "source": [
    "Um die Interaktivität auszuprobieren, können Sie den unten stehenden Bereich nutzen, um Code zu schreiben und auszuführen. Probieren Sie es aus. Ersetzen Sie den Bereich zum Schreiben von Code durch die folgende Zeile.\n",
    "\n",
    "```Python\n",
    "print(\"Hello World!\")\n",
    "```"
   ]
  },
  {
   "cell_type": "code",
   "execution_count": 1,
   "id": "b0b588bb",
   "metadata": {},
   "outputs": [],
   "source": [
    "# Hier können Sie Code ausführen, wenn Sie Interaktivität angeschaltet haben.\n"
   ]
  }
 ],
 "metadata": {
  "kernelspec": {
   "display_name": "Python 3 (ipykernel)",
   "language": "python",
   "name": "python3"
  },
  "language_info": {
   "codemirror_mode": {
    "name": "ipython",
    "version": 3
   },
   "file_extension": ".py",
   "mimetype": "text/x-python",
   "name": "python",
   "nbconvert_exporter": "python",
   "pygments_lexer": "ipython3",
   "version": "3.9.13"
  }
 },
 "nbformat": 4,
 "nbformat_minor": 5
}
