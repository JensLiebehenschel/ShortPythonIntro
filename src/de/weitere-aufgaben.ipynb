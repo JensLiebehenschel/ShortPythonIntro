{
 "cells": [
  {
   "cell_type": "markdown",
   "id": "81ce7c94",
   "metadata": {},
   "source": [
    "# Weitere Aufgaben\n",
    "(Klicken Sie [hier](https://jensliebehenschel.github.io/ShortPythonIntro/en/further-exercises.html) für die englische Version dieser Seite)"
   ]
  },
  {
   "cell_type": "markdown",
   "id": "07ecb653",
   "metadata": {},
   "source": [
    "## Fizz buzz"
   ]
  },
  {
   "cell_type": "markdown",
   "id": "83768f7a",
   "metadata": {},
   "source": [
    "Eine sehr beliebte Aufgabe für Einsteiger einer Programmiersprache, ist das Fizz buzz-Problem:\n",
    "\n",
    "- Es sollen die Zahlen 1 bis inklusive 100 untereinander ausgegeben werden.\n",
    "\n",
    "- Hierbei sollen jedoch Zahlen, welche durch 3 teilbar sind, durch den String <code>\"Fizz\"</code> ersetzt werden.\n",
    "\n",
    "- Zahlen, welche durch 5 teilbar sind, sollen durch den String <code>\"Buzz\"</code> ersetzt werden.\n",
    "\n",
    "- Wenn eine Zahl sowohl durch 3 als auch durch 5 teilbar ist, soll die Zahl durch den String <code>\"FizzBuzz\"</code> ersetzt werden.\n",
    "\n",
    "\n",
    "Die Ausgabe soll so aussehen, wobei die rechte Spalte nur zur Veranschaulichung da ist."
   ]
  },
  {
   "cell_type": "markdown",
   "id": "a7835eb3",
   "metadata": {},
   "source": [
    "```\n",
    "Output    (Zahl)\n",
    "\n",
    "1         1\n",
    "2         2\n",
    "Fizz      3\n",
    "4         4\n",
    "Buzz      5\n",
    "Fizz      6\n",
    "7         7\n",
    "8         8\n",
    "Fizz      9\n",
    "Buzz      10\n",
    "11        11\n",
    "Fizz      12\n",
    "13        13\n",
    "14        14\n",
    "FizzBuzz  15\n",
    "16        16\n",
    "...       ...\n",
    "98        98\n",
    "Fizz      99\n",
    "Buzz      100\n",
    "```"
   ]
  },
  {
   "cell_type": "markdown",
   "id": "f3b4ff88",
   "metadata": {},
   "source": [
    "### Ihre Antwort"
   ]
  },
  {
   "cell_type": "code",
   "execution_count": 1,
   "id": "b8584310",
   "metadata": {},
   "outputs": [],
   "source": [
    "# Hier können Sie das FizzBuzz Problem lösen\n"
   ]
  },
  {
   "cell_type": "markdown",
   "id": "1683fa55",
   "metadata": {
    "tags": []
   },
   "source": [
    ":::{admonition} Lösung für FizzBuzz\n",
    ":class: dropdown\n",
    "\n",
    "```Python\n",
    "for number in range(1, 101):\n",
    "    if number % 3 == 0 and number % 5 == 0:\n",
    "        print(\"FizzBuzz\")\n",
    "    elif number % 3 == 0:\n",
    "        print(\"Fizz\")\n",
    "    elif number % 5 == 0:\n",
    "        print(\"Buzz\")\n",
    "    else:\n",
    "        print(number)\n",
    "```\n",
    "\n",
    "Erklärung der obigen Lösung: \n",
    "\n",
    "<code>range(1, 101)</code>, da es bei <code>1</code> starten soll und bis inklusiv <code>100</code> gehen soll. (Inklusiv <code>100</code> --> Exklusiv <code>101</code> --> <code>range(1, 101)</code>)\n",
    "\n",
    "Zahl ist durch <code>n</code> teilbar --> <code>zahl % n == 0</code>.\n",
    "\n",
    "Sprich: Es gibt keinen Rest bei der Division <code>zahl / n</code>.\n",
    "\n",
    "Es gibt viele Lösungen für diese bekannte Programmieraufgabe. Man könnte etwa mit Strings arbeiten und bei Bedarf Fizz und Buzz konkatenieren.\n",
    "\n",
    ":::"
   ]
  },
  {
   "cell_type": "markdown",
   "id": "4fe0950d",
   "metadata": {},
   "source": [
    "## Palindrome"
   ]
  },
  {
   "cell_type": "markdown",
   "id": "a96227e6",
   "metadata": {},
   "source": [
    "Ein Palindrom ist ein Wort, welches egal ob von links nach rechts oder von rechts nach links gelesen, identisch ist. \n",
    "\n",
    "Sprich: Man kann das Wort in der Mitte des Wortes spiegeln und es verändert sich nicht.\n",
    "\n",
    "Beispiele: radar, rentner\n",
    "\n",
    "```\n",
    "Wort:   R A D A R\n",
    "Index:  0 1 2 3 4\n",
    "\n",
    "Wort:   R A D A R\n",
    "Index:  4 3 2 1 0\n",
    "```\n",
    "\n",
    "Egal ob man \"RADAR\" von links nach rechts oder von rechts nach links liest, verändert sich das Wort nicht."
   ]
  },
  {
   "cell_type": "markdown",
   "id": "29de5aa1",
   "metadata": {},
   "source": [
    "Ihre Aufgabe ist es, eine Funktion zu schreiben, welche ein Wort als Eingabe erhält und zurückgibt, ob es sich um ein Palindrom handelt oder nicht.\n",
    "Falls es sich um ein Palindrom handelt, wird <code>True</code> zurückgegeben, ansonsten <code>False</code>.\n",
    "Um es zu vereinfachen, gehen Sie davon aus, dass nur ein Wort angegeben wird. Außerdem keine Leerzeichen und nur Kleinbuchstaben."
   ]
  },
  {
   "cell_type": "code",
   "execution_count": 2,
   "id": "aa1288cf",
   "metadata": {},
   "outputs": [],
   "source": [
    "# Hier können Sie das Palindrom Problem lösen\n"
   ]
  },
  {
   "cell_type": "markdown",
   "id": "db8d9fc3",
   "metadata": {},
   "source": [
    ":::{admonition} Lösung für Palindrome\n",
    ":class: dropdown\n",
    "\n",
    "Die wahrscheinlich einfachste Variante. Man kehrt den String einfach um. Wenn der umgekehrte String dem eigentlichen String gleicht, handelt es sich um ein Palindrom.\n",
    "Um den String umzukehren, erstellt man einen leeren String und konkateniert alle Buchstaben des eigentlichen Strings, jedoch fängt man von hinten an. Deswegen <code>reversed(range())</code>.\n",
    "Man muss Konkatenieren anstatt eine Indexzuweisung zu machen, da Strings in Python <code>immutable</code> sind und somit man nicht einen bestimmten Buchstaben an einem beliebigen Index verändern kann. \n",
    "\n",
    "```Python\n",
    "def ist_palindrom(string):\n",
    "    umgekehrter_string = \"\"\n",
    "    for index in reversed(range(0, len(string))):\n",
    "        umgekehrter_string += string[index]\n",
    "    return string == umgekehrter_string\n",
    "\n",
    "```\n",
    "\n",
    "Bei einer anderen Variante, muss man den String gar nicht umkehren. Alle Vergleiche werden im selben String durchgeführt.\n",
    "Hier überprüft man, ob der erste Buchstabe von links dem ersten Buchstaben von rechts gleicht. Dann ob der zweite Buchstabe von links dem zweiten Buchstaben von rechts gleicht. Dies macht man bis zur Mitte. Wenn man dort ankommt und man keine unterschiedlichen Buchstaben gefunden hat, dann handelt es sich um ein Palindrom. Wenn man irgendwo einen Unterschied findet, ist es kein Palindrom und der Vergleich wird abgebrochen.\n",
    "\n",
    "Erklärung des Codes:\n",
    "<code>es_ist_ein_palindrom</code> wird auf <code>True</code> gesetzt, da man am Anfang davon ausgeht, dass es sich um ein Palindrom handelt.\n",
    "Für die Zählervariable wird der Bereich <code>range(0, len(string) // 2)</code> genutzt. Mit <code>len(string)</code> erhält man die Länge des Wortes. Mit dem <code>//</code> Operator, führt man eine Division durch und rundet das Ergebnis auf den nächst kleineren Integerwert.\n",
    "\n",
    "Man kann durch Ausprobieren überprüfen, dass die Zählervariable bei einer geraden Wortlänge bei dem linken der beiden mittleren Buchstaben endet. Bei Wörtern mit ungerader Länge, endet die Zählervariable links von dem mittleren Buchstaben, da der mittlere Buchstabe selbst nicht überprüft werden muss, da dieser genau in der Mitte ist und eine Spiegelung nichts an diesem Buchstaben ändern kann.\n",
    "\n",
    "Um sowohl auf einen linken als auch auf einen rechten Buchstaben zuzugreifen, benutzt man die Indizes <code>index</code> und <code>-(index+1)</code>. Mit dem Index <code>-1</code> greift man auf das erste Element von rechts zu. Da Indizes aber bei <code>0</code> starten, muss man auf den negativen Index <code>1</code> addieren.\n",
    "\n",
    "Die in Verbindung stehenden Paare wäre also die Indizes <code>{0, -1}, {1, -2}, {2, -3}, {3, -4}, ...</code>\n",
    "Allgemein: <code>{index, -(index+1)}</code>. So kommt man auf die Formel. \n",
    "\n",
    "Wenn es nun eine Stelle gibt, welche die Voraussetzung für ein Palindrom verletzt, so wird <code>es_ist_ein_palindrom</code> auf <code>False</code> gesetzt. Optional um Zeit zu sparen, kann man mit <code>break</code> die For-Schleife beenden, da bereits gezeigt wurde, dass es sich nicht um ein Palindrom handelt. Somit sind weitere Vergleiche nutzlos.\n",
    "\n",
    "Schließlich gibt man zurück, ob es sich ein Palindrom handelt oder nicht.\n",
    "\n",
    "```Python\n",
    "def palindrom_von_beiden_seiten_pruefen(string):\n",
    "    es_ist_ein_palindrom = True\n",
    "    for index in range(0, len(string) // 2):\n",
    "        if string[index] != string[-(index+1)]:\n",
    "            es_ist_ein_palindrom = False\n",
    "            break\n",
    "    return es_ist_ein_palindrom\n",
    "```\n",
    "\n",
    ":::"
   ]
  }
 ],
 "metadata": {
  "kernelspec": {
   "display_name": "Python 3 (ipykernel)",
   "language": "python",
   "name": "python3"
  },
  "language_info": {
   "codemirror_mode": {
    "name": "ipython",
    "version": 3
   },
   "file_extension": ".py",
   "mimetype": "text/x-python",
   "name": "python",
   "nbconvert_exporter": "python",
   "pygments_lexer": "ipython3",
   "version": "3.9.13"
  }
 },
 "nbformat": 4,
 "nbformat_minor": 5
}
