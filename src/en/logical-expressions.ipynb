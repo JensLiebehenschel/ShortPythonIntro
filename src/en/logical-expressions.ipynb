{
 "cells": [
  {
   "cell_type": "markdown",
   "id": "4bdd193d",
   "metadata": {},
   "source": [
    "# Logical expressions\n",
    "(Click [here](https://jensliebehenschel.github.io/ShortPythonIntro/de/logische-ausdruecke.html) for the German version of this page)"
   ]
  },
  {
   "cell_type": "markdown",
   "id": "8a508a08",
   "metadata": {},
   "source": [
    "## The data type boolean"
   ]
  },
  {
   "cell_type": "markdown",
   "id": "55080986",
   "metadata": {},
   "source": [
    "Now the topic is logical expressions.\n",
    "\n",
    "Python has the data type Boolean, which can have one of the two values true and false.\n",
    "\n",
    "<code>True</code> und <code>False</code> are the respective Python keywords.\n",
    "Both have the first letter capitalized and all other letters in lowercase.\n",
    "\n",
    "```py\n",
    "Correct:\n",
    "x = True\n",
    "y = False\n",
    "\n",
    "Incorrect:\n",
    "x = true\n",
    "y = false\n",
    "x = TRUE\n",
    "y = FALSE\n",
    "x = tRuE\n",
    "y = fAlSe\n",
    "```\n",
    "\n",
    "When using an Editor with Python syntax highlighting or autocompletion, one can make sure to write it correctly.\n",
    "\n",
    "## Logical expressions\n",
    "The comparison operator, which checks for equality, is <code>&equals;&equals;</code> just like in almost all other programming languages. Inequality is checked using the operator <code>!&equals;</code>.\n",
    "```py\n",
    "x = 5\n",
    "y = 5\n",
    "\n",
    "print(x == y)\n",
    "# --> True\n",
    "\n",
    "print(x != y)\n",
    "# --> False\n",
    "```\n",
    "\n",
    "To check whether a variable has a null value, one can use the above comparison operator or the keyword <code>is</code>.\n",
    "\n",
    "```py\n",
    "x = None\n",
    "\n",
    "print(x == None)\n",
    "# --> True\n",
    "\n",
    "print(x != None)\n",
    "# --> False\n",
    "\n",
    "print(x is None)\n",
    "# --> True\n",
    "\n",
    "print(x is not None)\n",
    "# --> False\n",
    "\n",
    "# Alternatively:\n",
    "print(not x is None)\n",
    "# --> False\n",
    "```\n",
    "\n",
    "Comparisons of concrete values are also possible with <code>&gt;,&lt;,&gt;&equals;,&lt;&equals;</code>.\n",
    "\n",
    "To negate a Boolean expression, C used an exclamation mark.\n",
    "```C\n",
    "int x = 5;\n",
    "int y = 5;\n",
    "\n",
    "printf(\"%d\", !(x == y));\n",
    "// 0 i.e., False\n",
    "```\n",
    "\n",
    "Python instead uses the keyword <code>not</code> The above example in Python would be:\n",
    "```py\n",
    "x = 5\n",
    "y = 5\n",
    "\n",
    "print(not(x == y))\n",
    "# --> False\n",
    "```\n",
    "\n",
    "The same approach is used for the \"logical and\" and \"logical or\".\n",
    "\n",
    "The respective keywords are <code>and</code> and <code>or</code>.\n",
    "\n",
    "C:\n",
    "```C\n",
    "int x = 1; // i.e., True\n",
    "int y = 0; // i.e., False\n",
    "int z = 1; // i.e., True\n",
    "\n",
    "printf(\"%d\", x && z);\n",
    "// --> 1 i.e., True\n",
    "\n",
    "printf(\"%d\", x && y);\n",
    "// --> 0 i.e., False\n",
    "\n",
    "printf(\"%d\", x || y);\n",
    "// --> 1 i.e., True\n",
    "```\n",
    "\n",
    "Python:\n",
    "Python:\n",
    "```py\n",
    "x = True\n",
    "y = False\n",
    "z = True\n",
    "\n",
    "print(x and z)\n",
    "# --> True\n",
    "\n",
    "print(x and y)\n",
    "# --> False\n",
    "\n",
    "print(x or y)\n",
    "# --> True\n",
    "```"
   ]
  },
  {
   "cell_type": "markdown",
   "id": "b8f4eeb9",
   "metadata": {},
   "source": [
    "## Exercise"
   ]
  },
  {
   "cell_type": "markdown",
   "id": "0566975c",
   "metadata": {},
   "source": [
    "You are given the following logical expression. Your task is to translate it into Python code. So you can properly execute the code, please use the concrete values $x=5$, $y=5$, $z=3$, $t=True$ and $f=False$. Using those conrete values results in tautologies. No **simplifications** must be performed."
   ]
  },
  {
   "cell_type": "markdown",
   "id": "ec501360",
   "metadata": {},
   "source": [
    "<font size=\"12\">$expression = $</font>\n",
    "\n",
    "<font size=\"12\">$(x=y \\land ((x=z \\lor \\neg(y < z)) \\lor$</font>  \n",
    "\n",
    "<font size=\"12\">$\\neg((\\neg t \\lor f) \\land (t \\land \\neg (x < z)))))$</font>"
   ]
  },
  {
   "cell_type": "markdown",
   "id": "3d10460f",
   "metadata": {},
   "source": [
    "Alternatively if you do not want to use the above expression, you are also free to use the following C code. The C code and the expression above are equivalent."
   ]
  },
  {
   "cell_type": "markdown",
   "id": "0d024880",
   "metadata": {},
   "source": [
    ":::{admonition} Equivalent C code as optional help\n",
    ":class: dropdown\n",
    "\n",
    "```C\n",
    "// Equivalent C code\n",
    "int x = 5;\n",
    "int y = 5;\n",
    "int z = 3;\n",
    "int t = 1;\n",
    "int f = 0;\n",
    "\n",
    "printf(\"%d\", \n",
    "    x==y && ( (x == z || !(y < z)) || !((!t || f) && (t && !(x < z)))) \n",
    ");\n",
    "```\n",
    "\n",
    ":::"
   ]
  },
  {
   "cell_type": "code",
   "execution_count": null,
   "id": "72937201",
   "metadata": {},
   "outputs": [
    {
     "name": "stdout",
     "output_type": "stream",
     "text": [
      "Ellipsis\n"
     ]
    }
   ],
   "source": [
    "# Here you can try to solve this problem...\n",
    "# Replace ... with your code.\n",
    "x = 5\n",
    "y = 5\n",
    "z = 3\n",
    "t = True\n",
    "f = False\n",
    "\n",
    "print(\n",
    "    ...\n",
    ")"
   ]
  },
  {
   "cell_type": "markdown",
   "id": "d122e95b",
   "metadata": {},
   "source": [
    ":::{admonition} Solution\n",
    ":class: dropdown\n",
    "\n",
    "Here is the solution. You can of course use more parentheses to avoid having to pay close attention to order of operations.\n",
    "\n",
    "```py\n",
    "x = 5\n",
    "y = 5\n",
    "z = 3\n",
    "t = True\n",
    "f = False\n",
    "\n",
    "print( \n",
    "    x == y and ( (x == z or not (y < z)) or not ((not t or f) and (t and not (x < z))))\n",
    ")\n",
    "# --> True\n",
    "```\n",
    "\n",
    ":::"
   ]
  }
 ],
 "metadata": {
  "kernelspec": {
   "display_name": "Python 3 (ipykernel)",
   "language": "python",
   "name": "python3"
  },
  "language_info": {
   "codemirror_mode": {
    "name": "ipython",
    "version": 3
   },
   "file_extension": ".py",
   "mimetype": "text/x-python",
   "name": "python",
   "nbconvert_exporter": "python",
   "pygments_lexer": "ipython3",
   "version": "3.9.13"
  }
 },
 "nbformat": 4,
 "nbformat_minor": 5
}
