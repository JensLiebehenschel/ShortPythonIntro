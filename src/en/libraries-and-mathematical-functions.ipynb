{
 "cells": [
  {
   "cell_type": "markdown",
   "id": "7bcbf1de",
   "metadata": {},
   "source": [
    "# Libraries and mathematical functions\n",
    "\n",
    "## Importing a library\n",
    "\n",
    "Python has an enormous selection of libraries. Be it libraries to create graphical content or libraries for machine learning.\n",
    "\n",
    "In the context of algorithms and data structures, mathematical libraries are of particular interest. With these libraries one can use functions to calculate square roots, logarithms and much more.\n",
    "\n",
    "To be able to use those helpful functions, one first has to import the appropriate library. From a logical perspective, it works similar to importing libraries in C. There is a keyword followed by the name of the library. Afterwards, the library can be used.\n",
    "\n",
    "In C:\n",
    "```C\n",
    "#include <Library_name.h>\n",
    "```\n",
    "\n",
    "In Python the keyword <code>import</code> is used:\n",
    "```py\n",
    "import Library_name\n",
    "```\n",
    "\n",
    "For calculation of square roots and lograithms, the library <code>math</code> needs to be imported.\n",
    "\n",
    "Therefore, you need the following statement:\n",
    "```py\n",
    "import math\n",
    "```\n",
    "Then you can use the math functions.\n",
    "\n",
    "## Functions of the math library\n",
    "\n",
    "After importing the math library, the corresponding functions can be accessed with the prefix <code>math.</code>, meaning you want to access a function of that library.\n",
    "\n",
    "The square root of 25 could be calculated as follows using the function <code>math.sqrt()</code>:\n",
    "```py\n",
    "x = math.sqrt(25)\n",
    "print(x)\n",
    "# --> 5\n",
    "```\n",
    "\n",
    "To calculate the base 10 logarithm of x, one can use the function <code>math.log10()</code>:\n",
    "```py\n",
    "x = math.log10(100)\n",
    "print(x)\n",
    "# --> 2\n",
    "```\n",
    "\n",
    "information regarding math functions, such as trigonometric functions, can be found in the <a href=\"https://docs.python.org/3/library/math.html\" target=\"_blank\">official Python documentation</a>."
   ]
  },
  {
   "cell_type": "markdown",
   "id": "485d5604",
   "metadata": {},
   "source": [
    "## Exercise\n",
    "\n",
    "Here is the equation for the densitiy function of a <a href=\"https://de.wikipedia.org/wiki/Normalverteilung\" target=\"_blank\">normal distribution</a>, also known as a \"gaussian bell curve\".\n",
    "The goal is not to understand this formula. We chose this formula, since you can test whether you have understood how to utilize mathematical operators and functions.\n",
    "The only goal is to rewrite the formula into Python code and calculate the result for the given values $\\mu =3$, $\\sigma = 5$ and $x=4$."
   ]
  },
  {
   "cell_type": "markdown",
   "id": "abe5d0f7",
   "metadata": {},
   "source": [
    "<font size=\"14\">$f(x\\:|\\:\\mu,\\sigma^2)=\\frac{1}{\\sigma\\sqrt{2\\pi}}e^{-\\frac{1}{2}(\\frac{x-\\mu}{\\sigma})^2}$</font>"
   ]
  },
  {
   "cell_type": "markdown",
   "id": "aea154a9",
   "metadata": {},
   "source": [
    "To make it easier, the formula was slightly rewritten by replacing all the greek letters (except <code>pi</code>) with the variable names.\n",
    "\n",
    "Those should be the variable names used in the code."
   ]
  },
  {
   "cell_type": "markdown",
   "id": "258fa759",
   "metadata": {},
   "source": [
    "<font size=\"14\">$result=\\frac{1}{sigma\\cdot\\sqrt{2\\cdot\\pi}}\\cdot e^{-\\frac{1}{2}\\cdot(\\frac{x-mu}{sigma})^2}$</font>"
   ]
  },
  {
   "cell_type": "markdown",
   "id": "e514608a",
   "metadata": {},
   "source": [
    "The value for $\\pi$ can be retrieved with <code>math.pi</code>.\n",
    "The value for $e$ can be retrieved with <code>math.e</code>. Pay attention to parentheses.\n",
    "\n",
    "Example:\n",
    "\n",
    "```Python\n",
    "result = (a + b + c\n",
    "         + d + e)\n",
    "```\n",
    "\n",
    "Good luck and have fun!"
   ]
  },
  {
   "cell_type": "code",
   "execution_count": null,
   "id": "7370713f",
   "metadata": {},
   "outputs": [
    {
     "name": "stdout",
     "output_type": "stream",
     "text": [
      "Ellipsis\n"
     ]
    }
   ],
   "source": [
    "# Here you can attempt to solve the problem...\n",
    "# Simply replace the ... below with your code.\n",
    "# The output should be the result of the formula.\n",
    "# Do you perhaps need a library?\n",
    "\n",
    "mu = 3\n",
    "sigma = 5\n",
    "x = 4\n",
    "print(\n",
    "    ...\n",
    ")"
   ]
  },
  {
   "cell_type": "markdown",
   "id": "c953e9c5",
   "metadata": {
    "tags": []
   },
   "source": [
    ":::{admonition} Solution\n",
    ":class: dropdown\n",
    "\n",
    "```py\n",
    "import math\n",
    "mu = 3\n",
    "sigma = 5\n",
    "x = 4\n",
    "print(\n",
    "    (1/(sigma * math.sqrt(2*math.pi))) \n",
    "    * math.e ** (-(1/2) * ((x-mu)/sigma) ** 2)\n",
    ")\n",
    "# 0.07820853879509118\n",
    "```\n",
    "\n",
    "This is just one solution. You can write the formula down in another way of course. As long as the result is correct, your solution is also corrrect.\n",
    "\n",
    ":::"
   ]
  }
 ],
 "metadata": {
  "kernelspec": {
   "display_name": "Python 3 (ipykernel)",
   "language": "python",
   "name": "python3"
  },
  "language_info": {
   "codemirror_mode": {
    "name": "ipython",
    "version": 3
   },
   "file_extension": ".py",
   "mimetype": "text/x-python",
   "name": "python",
   "nbconvert_exporter": "python",
   "pygments_lexer": "ipython3",
   "version": "3.9.13"
  }
 },
 "nbformat": 4,
 "nbformat_minor": 5
}
