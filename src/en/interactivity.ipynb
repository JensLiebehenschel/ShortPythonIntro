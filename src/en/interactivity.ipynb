{
 "cells": [
  {
   "cell_type": "markdown",
   "id": "8f73940a",
   "metadata": {},
   "source": [
    "# Interactivity of this introduction\n",
    "(Click [here](https://jensliebehenschel.github.io/ShortPythonIntro/de/interaktivitaet.html) for the German version of this page)"
   ]
  },
  {
   "cell_type": "markdown",
   "id": "3d616f74",
   "metadata": {},
   "source": [
    "## Activating interactivity"
   ]
  },
  {
   "cell_type": "markdown",
   "id": "49cbac51",
   "metadata": {},
   "source": [
    "In this introduction you can solve small programming tasks interactively. You can write and execute Python code, without having to leave this website. This way, you can check your results and see error messages if there is a mistake.\n",
    "\n",
    "For this you must activate the interactivity.\n",
    "\n",
    "Not every page is interactive. Interactive pages can be identified as such if there is a button with a rocket at the top of the page. Hover over the rocket button and select <code>Live Code</code>.\n",
    "Fields where you can write code can then be identified by the presence of the three buttons <code>run</code>, <code>restart</code> and <code>restart &amp; run all</code>. For this introduction you only need the <code>run</code> button. The other buttons can be ignored.\n",
    "\n",
    "<video width=\"100%\" height=\"auto\" autoplay muted controls disablePictureInPicture loop>\n",
    "  <source src=\"https://raw.githubusercontent.com/JensLiebehenschel/ShortPythonIntro/refs/heads/main/src/en/activate_interactivity.mp4\" type=\"video/mp4\">\n",
    "</video>"
   ]
  },
  {
   "cell_type": "markdown",
   "id": "96431fdf",
   "metadata": {},
   "source": [
    "## Trying out interactivity"
   ]
  },
  {
   "cell_type": "markdown",
   "id": "1c4cb169",
   "metadata": {},
   "source": [
    "To try out the interactivity, you can use the area below to write code and execute it. Please try it out. Replace the contents of the block below with the following line:\n",
    "```py\n",
    "print(\"Hello World!\")\n",
    "```"
   ]
  },
  {
   "cell_type": "code",
   "execution_count": null,
   "id": "b0b588bb",
   "metadata": {},
   "outputs": [],
   "source": [
    "# Here you can write and execute code if interactivity has been enabled."
   ]
  }
 ],
 "metadata": {
  "kernelspec": {
   "display_name": "Python 3 (ipykernel)",
   "language": "python",
   "name": "python3"
  },
  "language_info": {
   "codemirror_mode": {
    "name": "ipython",
    "version": 3
   },
   "file_extension": ".py",
   "mimetype": "text/x-python",
   "name": "python",
   "nbconvert_exporter": "python",
   "pygments_lexer": "ipython3",
   "version": "3.9.13"
  }
 },
 "nbformat": 4,
 "nbformat_minor": 5
}
