{
 "cells": [
  {
   "cell_type": "markdown",
   "id": "81ce7c94",
   "metadata": {},
   "source": [
    "# Further Exercises\n",
    "(Click [here](https://jensliebehenschel.github.io/ShortPythonIntro/de/weitere-aufgaben.html) for the german version of this page)"
   ]
  },
  {
   "cell_type": "markdown",
   "id": "07ecb653",
   "metadata": {},
   "source": [
    "## Fizz buzz"
   ]
  },
  {
   "cell_type": "markdown",
   "id": "83768f7a",
   "metadata": {},
   "source": [
    "A popular exercise for beginners is the fizz buzz problem:\n",
    "- The numbers 1 up to (including) 100 are to be printed, each in their own line.\n",
    "- Numbers, which are divisible by 3 are to be replaced by the string <code>Fizz</code>\n",
    "- Numbers, which are divisible by 5 are to be replaced by the string <code>Buzz</code>\n",
    "- Numbers, which are divisible by both 3 and 5 are to be replaced by the string <code>FizzBuzz</code>\n",
    "\n",
    "The output should look like this: (Note that the right column is just included for clarity)"
   ]
  },
  {
   "cell_type": "markdown",
   "id": "a7835eb3",
   "metadata": {},
   "source": [
    "```\n",
    "Output    (Number)\n",
    "\n",
    "1         1\n",
    "2         2\n",
    "Fizz      3\n",
    "4         4\n",
    "Buzz      5\n",
    "Fizz      6\n",
    "7         7\n",
    "8         8\n",
    "Fizz      9\n",
    "Buzz      10\n",
    "11        11\n",
    "Fizz      12\n",
    "13        13\n",
    "14        14\n",
    "FizzBuzz  15\n",
    "16        16\n",
    "...       ...\n",
    "98        98\n",
    "Fizz      99\n",
    "Buzz      100\n",
    "```"
   ]
  },
  {
   "cell_type": "markdown",
   "id": "f3b4ff88",
   "metadata": {},
   "source": [
    "### Your solution"
   ]
  },
  {
   "cell_type": "code",
   "execution_count": null,
   "id": "b8584310",
   "metadata": {},
   "outputs": [],
   "source": [
    "# Here you can solve the fizz buzz problem...\n"
   ]
  },
  {
   "cell_type": "markdown",
   "id": "1683fa55",
   "metadata": {
    "tags": []
   },
   "source": [
    ":::{admonition} Solution for fizz buzz\n",
    ":class: dropdown\n",
    "\n",
    "```Python\n",
    "for number in range(1, 101):\n",
    "    if number % 3 == 0 and number % 5 == 0:\n",
    "        print(\"FizzBuzz\")\n",
    "    elif number % 3 == 0:\n",
    "        print(\"Fizz\")\n",
    "    elif number % 5 == 0:\n",
    "        print(\"Buzz\")\n",
    "    else:\n",
    "        print(number)\n",
    "```\n",
    "\n",
    "Explanation: \n",
    "\n",
    "<code>range(1, 101)</code> is used, since the sequence starts at <code>1</code> and ends at <code>100</code>. Since the second parameter for <code>range()</code> is the excluded upper boundary, <code>101</code> has to be used. (<code>100</code> inclusive --> <code>101</code> exclusive)\n",
    "\n",
    "Number is divisible by <code>n</code> --> <code>number % n == 0</code>.\n",
    "\n",
    "I.e., there is no remained for the division <code>number / n</code>.\n",
    "\n",
    "There are many solutions for this famous problem. One could e.g., work with strings and concatenate Fizz and Buzz for cases where the number is divisible by both 3 and 5.\n",
    "\n",
    ":::"
   ]
  },
  {
   "cell_type": "markdown",
   "id": "4fe0950d",
   "metadata": {},
   "source": [
    "## Palindromes"
   ]
  },
  {
   "cell_type": "markdown",
   "id": "a96227e6",
   "metadata": {},
   "source": [
    "A palindrome is a word, which is read the same no matter if one reads from left to right or right to left.\n",
    "\n",
    "I.e., the word can be mirorred in the middle without change.\n",
    "\n",
    "Examples: radar, kayak\n",
    "\n",
    "```\n",
    "Word:   R A D A R\n",
    "Index:  0 1 2 3 4\n",
    "\n",
    "Word:   R A D A R\n",
    "Index:  4 3 2 1 0\n",
    "```\n",
    "\n",
    "It does not matter whether you read \"RADAR\" from left to right or right to left, the result is the same."
   ]
  },
  {
   "cell_type": "markdown",
   "id": "29de5aa1",
   "metadata": {},
   "source": [
    "Your task is to write a functio, which takes a string as input and returns <code>True</code> if the provided string is a palindrome and <code>False</code> if it is not. To reduce complexity, you can assume that only lowercase letters without punctuation or spaces are provided."
   ]
  },
  {
   "cell_type": "code",
   "execution_count": null,
   "id": "aa1288cf",
   "metadata": {},
   "outputs": [],
   "source": [
    "# Here you can solve the palindrome problem...\n"
   ]
  },
  {
   "cell_type": "markdown",
   "id": "db8d9fc3",
   "metadata": {},
   "source": [
    ":::{admonition} Solution for palindromes\n",
    ":class: dropdown\n",
    "\n",
    "Probably the easiest version is to just reverse the string and check if it still equal to the original string. To reverse the string one can create an empty string and concatenate all letters to the empty string, starting from the back. This can be done using <code>reversed(range())</code>. Since strings are immutable, strings have to be concatenated and there is no way to modify a character at a given index.\n",
    "```py\n",
    "def is_palindrome(string):\n",
    "    reversed_string = \"\"\n",
    "    for index in reversed(range(0, len(string))):\n",
    "        reversed_string += string[index]\n",
    "    return string == reversed_string\n",
    "\n",
    "```\n",
    "\n",
    "For another variant, the string does not have to reversed. All comparisons can be done in-place. A check is performed whether the first character is equal to the last character, then a check is performed whether the second character is equal to the character before last, and so on until one arrives in the middle. If one arrives at the middle and has not encountered a pair, that does not match up, then it is a palindrome. If a pair does not match up somewhere, then it is not a palindrome.\n",
    "\n",
    "Explanation:\n",
    "<code>it_is_a_palindrome</code> is initially set to <code>True</code>. The index variable will have the values in <code>range(0, len(string) // 2)</code>. With <code>len(string)</code> one can get the length of the word. <code>//</code> is the integer division operator, which rounds the result to the next-lowest integer if it is not an integer already.\n",
    "\n",
    "To access both the letter on the left side and on the right side, one can use negative indices <code>Index</code> and <code>-(Index+1)</code>. <code>-Index</code> is the same as <code>len(string) - Index</code>.\n",
    "\n",
    "The connected pairs of characters would be <code>{0, -1}, {1, -2}, {2, -3}, {3, -4}, ...</code>. More generally: <code>{index, -(index+1)}</code>.\n",
    "\n",
    "If there is a spot, where the pair does not match up, it is not a palindrome.\n",
    "<code>it_is_a_palindrome</code> will be set to <code>False</code>. Optionally to save time, the loop is cancelled using the <code>break</code> keyword, since it has already been shown that the word is not a palindrome.\n",
    "\n",
    "Finally, the function returns whether the word is a palindrome or not.\n",
    "```py\n",
    "def is_palindrome_from_both_sides(string):\n",
    "    it_is_a_palindrome = True\n",
    "    for index in range(0, len(string) // 2):\n",
    "        if string[index] != string[-(index+1)]:\n",
    "            it_is_a_palindrome = False\n",
    "            break\n",
    "    return it_is_a_palindrome\n",
    "```\n",
    "\n",
    ":::"
   ]
  }
 ],
 "metadata": {
  "kernelspec": {
   "display_name": "Python 3 (ipykernel)",
   "language": "python",
   "name": "python3"
  },
  "language_info": {
   "codemirror_mode": {
    "name": "ipython",
    "version": 3
   },
   "file_extension": ".py",
   "mimetype": "text/x-python",
   "name": "python",
   "nbconvert_exporter": "python",
   "pygments_lexer": "ipython3",
   "version": "3.9.13"
  }
 },
 "nbformat": 4,
 "nbformat_minor": 5
}
