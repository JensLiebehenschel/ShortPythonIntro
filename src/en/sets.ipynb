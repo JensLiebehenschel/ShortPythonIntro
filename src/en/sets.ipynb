{
 "cells": [
  {
   "cell_type": "markdown",
   "metadata": {},
   "source": [
    "# Sets"
   ]
  },
  {
   "cell_type": "markdown",
   "metadata": {},
   "source": [
    "A set is an unordered collection of elements, where no duplicates are allowed.\n",
    "\n",
    "One can work with sets in Python just like one is used to from mathematical sets.\n",
    "\n",
    "Since it is an unordered collection of elements, one should not assume that e.g., the set stores elements in the same order as you have added them. For those purposes, a list or something else should be used instead.\n",
    "\n",
    "Additionally, elements in a set, in contrast to lists, have to be immutable. So elements of a set have the same restriction and keys in a dictionary.\n",
    "\n",
    "## Syntax\n",
    "The set syntax is very similar to lists. The only difference is that instead of using square brackets, curly braces are used. OTherwise, the creation is identical.\n",
    "\n",
    "```py\n",
    "my_list = [1, 2, 3]\n",
    "my_set = {1, 2, 3}\n",
    "```\n",
    "\n",
    "Since the same delimiters (<code>{</code> und <code>}</code>) are also used for dictionaries, it is not entirely clear what <code>{}</code> should be interpreted as. It could either be an empty set or an empty dictionary. Python defines <code>{}</code> to be an empty dictionary. To create an empty set, one should instead use the function <code>set()</code>.\n",
    "\n",
    "```py\n",
    "print(type( {} ))\n",
    "# --> <class 'dict'>\n",
    "\n",
    "print(type( set() ))\n",
    "# --> <class 'set'>\n",
    "```\n",
    "\n",
    "## Adding and deleting elements in a set\n",
    "To add an element to a set, the function <code>Set.add(Element)</code> is used. If one uses  <code>Set.add(Element)</code> to try and add an element, which is already present, the set will not be altered.\n",
    "\n",
    "```py\n",
    "my_set = {1, 2, 3}\n",
    "my_set.add(5)\n",
    "my_set.add(4)\n",
    "my_set.add(4)\n",
    "print(my_set)\n",
    "# --> {1, 2, 3, 4, 5}\n",
    "# Observe, that 5 was inserted before 4,\n",
    "# but the output lists 4 before 5.\n",
    "# Since a set is an unordered collection,\n",
    "# the order of elements is not guaranteed.\n",
    "```\n",
    "\n",
    "With <code>Set.remove(Element)</code> one can remove an element from a set.\n",
    "```py\n",
    "my_set = {1, 2, 3}\n",
    "my_set.remove(3)\n",
    "print(my_set)\n",
    "# --> {1, 2}\n",
    "```\n",
    "\n",
    "## Checking whether an Element is contained in a set\n",
    "The keyword <code>in</code> can be used to check whether an element is contained in a set.\n",
    "```py\n",
    "planets = {\"Earth\", \"Saturn\", \"Mars\"}\n",
    "\n",
    "print( \"Saturn\" in planets )\n",
    "# --> True\n",
    "\n",
    "print( \"Pluto\" in planets )\n",
    "# --> False\n",
    "```\n",
    "\n",
    "## Set operations\n",
    "The interesting part of sets are set operations. These include e.g., union, intersection, difference and symmetric difference.\n",
    "\n",
    "The union $A \\cup B$ can be calculated using the method <code>A.union(B)</code> or <code>A | B</code> for short.\n",
    "\n",
    "The intersection $A \\cap B$ can be calculated using the method <code>A.intersection(B)</code> or <code>A & B</code> for short.\n",
    "\n",
    "The difference $A \\setminus B$ can be calculated using the method <code>A.difference(B)</code> or <code>A - B</code> for short.\n",
    "\n",
    "Die symmetric difference $A \\triangle B$ can be calculated using the method <code>A.symmetric_difference(B)</code> or <code>A ^ B</code> for short.\n",
    "\n",
    "```py\n",
    "a = {1, 2, 3}\n",
    "b = {3, 4, 5}\n",
    "\n",
    "print( a.union(b) ) # a | b\n",
    "# --> {1, 2, 3, 4, 5}\n",
    "\n",
    "print( a.intersection(b) ) # a & b\n",
    "# --> {3}\n",
    "\n",
    "print( a.difference(b) ) # a - b\n",
    "# --> {1, 2}\n",
    "\n",
    "print( a.symmetric_difference(b) ) # a ^ b\n",
    "# --> {1, 2, 4, 5}\n",
    "```"
   ]
  },
  {
   "cell_type": "markdown",
   "metadata": {},
   "source": [
    "## Exercise"
   ]
  },
  {
   "cell_type": "markdown",
   "metadata": {},
   "source": [
    "Use set operations to implement the following expression.\n",
    "\n",
    "$$(A \\cup B) \\cap B \\setminus (D \\triangle C)$$"
   ]
  },
  {
   "cell_type": "code",
   "execution_count": null,
   "metadata": {},
   "outputs": [
    {
     "name": "stdout",
     "output_type": "stream",
     "text": [
      "Ellipsis\n"
     ]
    }
   ],
   "source": [
    "# Here you can try to solve this problem...\n",
    "A = {1, 2, 3}\n",
    "B = {6, 7, 1}\n",
    "C = {6}\n",
    "D = {6, 7, 3}\n",
    "\n",
    "result = ...\n",
    "print(result)"
   ]
  },
  {
   "cell_type": "markdown",
   "metadata": {},
   "source": [
    ":::{admonition} Solution\n",
    ":class: dropdown\n",
    "\n",
    "```py\n",
    "A = {1, 2, 3}\n",
    "B = {6, 7, 1}\n",
    "C = {6}\n",
    "D = {6, 7, 3}\n",
    "\n",
    "result = A.union(B).intersection(B).difference(D.symmetric_difference(C))\n",
    "print(result)\n",
    "# --> {1, 6}\n",
    "\n",
    "# Or the short form:\n",
    "\n",
    "result = ((A | B) & B) - (D ^ C)\n",
    "print(result)\n",
    "# --> {1, 6}\n",
    "```\n",
    "\n",
    "The result should be  the set <code>{1, 6}</code>.\n",
    "\n",
    ":::"
   ]
  }
 ],
 "metadata": {
  "kernelspec": {
   "display_name": "py311",
   "language": "python",
   "name": "python3"
  },
  "language_info": {
   "codemirror_mode": {
    "name": "ipython",
    "version": 3
   },
   "file_extension": ".py",
   "mimetype": "text/x-python",
   "name": "python",
   "nbconvert_exporter": "python",
   "pygments_lexer": "ipython3",
   "version": "3.11.5"
  }
 },
 "nbformat": 4,
 "nbformat_minor": 2
}
