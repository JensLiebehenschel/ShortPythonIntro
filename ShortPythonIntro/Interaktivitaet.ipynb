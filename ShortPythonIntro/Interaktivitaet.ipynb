{
 "cells": [
  {
   "cell_type": "markdown",
   "id": "9a0aba3c-96ad-4989-a3bf-86dcb9272259",
   "metadata": {},
   "source": [
    "# Interaktivität dieser Einführung"
   ]
  },
  {
   "cell_type": "markdown",
   "id": "545aa5a2-faf6-4e6b-a120-90d457abed37",
   "metadata": {},
   "source": [
    "## **DIESE PYTHON EINFÜHRUNG IST WORK-IN-PROGRESS. ES KÖNNEN NOCH ÄNDERUNGEN VORGENOMMEN WERDEN.**"
   ]
  },
  {
   "cell_type": "markdown",
   "id": "4c9cb557-0ee8-4aea-b033-be9bcc97945f",
   "metadata": {},
   "source": [
    "## Interaktivität aktivieren"
   ]
  },
  {
   "cell_type": "markdown",
   "id": "54bd65a1-1457-432d-8a66-b25584c4d038",
   "metadata": {},
   "source": [
    "In dieser Einführung können Sie interaktiv kleine Programmieraufgaben lösen.\n",
    "Sie können Code schreiben und diesen ohne die Webseite verlassen zu müssen, ausführen lassen. \n",
    "So können Sie einerseits ihr Ergebnis überprüfen, andererseits aber auch gegebenenfalls durch Fehlernachrichten dazulernen. \n",
    "\n",
    "Dafür müssen sie lediglich die Interaktivität aktivieren.\n",
    "\n",
    "Nicht jede Seite ist interaktiv. Interaktive Seiten erkennen Sie an der Rakete über der Überschrift. Bewegen Sie ihre Maus über die Rakete und drücken sie auf den Knopf <code>Live Code</code>. \n",
    "Bereiche wo sie Code schreiben können, erkennen Sie an den drei Knöpfen <code>run</code>, <code>restart</code> und <code>restart &amp; run all</code>. Bei dieser Einführung brauchen Sie nur den Knopf <code>run</code>. Die restlichen Knöpfe können Sie ignorieren."
   ]
  },
  {
   "cell_type": "markdown",
   "id": "92015a96-edda-472b-96cc-cde601b11b96",
   "metadata": {},
   "source": [
    "## Interaktivität ausprobieren"
   ]
  },
  {
   "cell_type": "markdown",
   "id": "e84f77aa-dea7-49fe-a08a-c5d30d31a681",
   "metadata": {},
   "source": [
    "Um die Interaktivität auszuprobieren, können Sie den unten stehenden Bereich nutzen um Code zu schreiben und auszuführen. Ersetzen Sie etwa den Bereich wo Sie schreiben können durch die Zeile\n",
    "\n",
    "```Python\n",
    "print(\"Hello World!\")\n",
    "```"
   ]
  },
  {
   "cell_type": "code",
   "execution_count": 1,
   "id": "daf24698-0c4a-47f8-8cb6-f2805b142834",
   "metadata": {},
   "outputs": [],
   "source": [
    "# Hier können Sie Code ausführen, wenn Sie Interaktivität angeschaltet haben.\n"
   ]
  }
 ],
 "metadata": {
  "kernelspec": {
   "display_name": "Python 3 (ipykernel)",
   "language": "python",
   "name": "python3"
  },
  "language_info": {
   "codemirror_mode": {
    "name": "ipython",
    "version": 3
   },
   "file_extension": ".py",
   "mimetype": "text/x-python",
   "name": "python",
   "nbconvert_exporter": "python",
   "pygments_lexer": "ipython3",
   "version": "3.9.13"
  }
 },
 "nbformat": 4,
 "nbformat_minor": 5
}
