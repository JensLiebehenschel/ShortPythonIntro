{
 "cells": [
  {
   "cell_type": "markdown",
   "metadata": {},
   "source": [
    "# Interaktivität dieser Einführung"
   ]
  },
  {
   "cell_type": "markdown",
   "metadata": {},
   "source": [
    "## Interaktivität aktivieren"
   ]
  },
  {
   "cell_type": "markdown",
   "metadata": {},
   "source": [
    "In dieser Einführung können Sie interaktiv kleine Programmieraufgaben lösen.\n",
    "Sie können Code schreiben und diesen, ohne die Webseite verlassen zu müssen, ausführen lassen. \n",
    "So können Sie einerseits ihr Ergebnis überprüfen, andererseits aber auch gegebenenfalls durch Fehlernachrichten dazulernen. \n",
    "\n",
    "Dafür müssen sie lediglich die Interaktivität aktivieren.\n",
    "\n",
    "Nicht jede Seite ist interaktiv. Interaktive Seiten erkennen Sie an der Rakete über der Überschrift. Bewegen Sie ihre Maus über die Rakete und drücken sie auf den Knopf <code>Live Code</code>. \n",
    "Bereiche zum Schreiben von Code, erkennen Sie an den drei Knöpfen <code>run</code>, <code>restart</code> und <code>restart &amp; run all</code>. Bei dieser Einführung brauchen Sie nur den Knopf <code>run</code>. Die restlichen Knöpfe können Sie ignorieren.\n",
    "\n",
    "<IMG SRC=\"https://raw.githubusercontent.com/JensLiebehenschel/ShortPythonIntro/main/ShortPythonIntro/interaktivitaet_aktivieren.gif\">"
   ]
  },
  {
   "cell_type": "markdown",
   "metadata": {},
   "source": [
    "## Interaktivität ausprobieren"
   ]
  },
  {
   "cell_type": "markdown",
   "metadata": {},
   "source": [
    "Um die Interaktivität auszuprobieren, können Sie den unten stehenden Bereich nutzen, um Code zu schreiben und auszuführen. Probieren Sie es aus. Ersetzen Sie den Bereich zum Schreiben von Code durch die folgende Zeile.\n",
    "\n",
    "```Python\n",
    "print(\"Hello World!\")\n",
    "```"
   ]
  },
  {
   "cell_type": "code",
   "execution_count": 1,
   "metadata": {},
   "outputs": [],
   "source": [
    "# Hier können Sie Code ausführen, wenn Sie Interaktivität angeschaltet haben.\n"
   ]
  }
 ],
 "metadata": {
  "kernelspec": {
   "display_name": "Python 3",
   "language": "python",
   "name": "python3"
  },
  "language_info": {
   "codemirror_mode": {
    "name": "ipython",
    "version": 3
   },
   "file_extension": ".py",
   "mimetype": "text/x-python",
   "name": "python",
   "nbconvert_exporter": "python",
   "pygments_lexer": "ipython3",
   "version": "3.8.5"
  }
 },
 "nbformat": 4,
 "nbformat_minor": 5
}
