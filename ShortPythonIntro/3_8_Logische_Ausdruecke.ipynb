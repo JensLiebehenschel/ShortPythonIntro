{
 "cells": [
  {
   "cell_type": "markdown",
   "id": "e2299890-672b-4655-bb01-0a77858f09b0",
   "metadata": {},
   "source": [
    "# Logische Ausdrücke"
   ]
  },
  {
   "cell_type": "markdown",
   "id": "49b663cc-7c9d-4d08-a90d-3f1ff2870205",
   "metadata": {},
   "source": [
    "## **DIESE PYTHON EINFÜHRUNG IST WORK-IN-PROGRESS. ES KÖNNEN NOCH ÄNDERUNGEN VORGENOMMEN WERDEN.**"
   ]
  },
  {
   "cell_type": "markdown",
   "id": "923c7e99-e1e9-494c-b115-272b1c08d28d",
   "metadata": {},
   "source": [
    "## Der Boolean Datentyp"
   ]
  },
  {
   "cell_type": "markdown",
   "id": "f5212b0b-12ce-48ba-9d1a-a23a2b06bf56",
   "metadata": {},
   "source": [
    "Nun geht es um logische Ausdrücke.\n",
    "\n",
    "In Python gibt es den Datentyp Boolean.\n",
    "Dieser kann zwei Werte haben: Wahr und Falsch\n",
    "\n",
    "auf Englisch True und False.\n",
    "\n",
    "<code>True</code> und <code>False</code> sind hierbei keine Strings, sondern keywords.\n",
    "Man muss mit der Groß- und Kleinschreibung aufpassen, denn es ist nur korrekt, wenn der Anfangsbuchstabe groß ist und der Rest klein.\n",
    "```Python\n",
    "Korrekt:\n",
    "x = True\n",
    "y = False\n",
    "\n",
    "Falsch:\n",
    "x = true\n",
    "y = false\n",
    "x = TRUE\n",
    "y = FALSE\n",
    "x = tRuE\n",
    "y = fAlSe\n",
    "```\n",
    "Benutzt man einen Editor mit Python Syntax Highlighting oder gar Autocompletion, wird man anhand der Hervorhebung wie beim Beispiel oben, erkennen, ob man es richtig geschrieben hat oder nicht. Zumindest bis man sich daran sowieso gewöhnt hat."
   ]
  },
  {
   "cell_type": "markdown",
   "id": "37584e62-bee0-47bd-8f7b-4842c061eccd",
   "metadata": {},
   "source": [
    "## Logische Ausdrücke"
   ]
  },
  {
   "cell_type": "markdown",
   "id": "9985c7df-aa95-483f-816e-e4aeac005d92",
   "metadata": {},
   "source": [
    "Der Vergleichsoperator, welcher auf Gleichteit prüft ist wie fast überall auch ein <code>&equals;&equals;</code>.\n",
    "```Python\n",
    "x = 5\n",
    "y = 5\n",
    "\n",
    "wahrheitsert = x == y\n",
    "print(wahrheitswert)\n",
    "# True\n",
    "```\n",
    "Vergleiche von konkreten Werten sind mit <code>&gt;,&lt;,&gt;&equals;,&lt;&equals;</code> ebenfalls möglich.\n",
    "\n",
    "Um einen booleschen Ausdruck zu negieren, benutzt man in C ein Ausrufezeichen:\n",
    "```C\n",
    "int x = 5;\n",
    "int y = 5;\n",
    "\n",
    "printf(\"%d\", !(x == y));\n",
    "// 0 bzw. False\n",
    "```\n",
    "In Python gibt es dafür das keyword <code>not</code>.\n",
    "Das oben geschriebene Beispiel in Python wäre also\n",
    "```Python\n",
    "x = 5\n",
    "y = 5\n",
    "\n",
    "print(not (x == y))\n",
    "# False\n",
    "```\n",
    "\n",
    "Die gleiche Vorgehensweise bei \"logischem und\" als auch beim \"logischem oder\".\n",
    "\n",
    "Da wird <code>&amp;&amp;</code> durch das keyword <code>and</code>, und <code>||</code> durch das keyword <code>or</code> ersetzt.\n",
    "\n",
    "```C\n",
    "int x = 1; // bzw. True\n",
    "int y = 0; // bzw. False\n",
    "int z = 1; // bzw. True\n",
    "\n",
    "printf(\"%d\", x && z);\n",
    "// 1 bzw. True\n",
    "\n",
    "printf(\"%d\", x && y);\n",
    "// 0 bzw. False\n",
    "\n",
    "printf(\"%d\", x || y);\n",
    "// 1 bzw. True\n",
    "```\n",
    "Python:\n",
    "```Python\n",
    "x = True\n",
    "y = False\n",
    "z = True\n",
    "\n",
    "print(x and z)\n",
    "# True\n",
    "\n",
    "print(x and y)\n",
    "# False\n",
    "\n",
    "print(x or y)\n",
    "# True\n",
    "```"
   ]
  },
  {
   "cell_type": "markdown",
   "id": "9f92f288-08d6-4304-b6ba-2e4ce5327da1",
   "metadata": {},
   "source": [
    "# Aufgabe"
   ]
  },
  {
   "cell_type": "markdown",
   "id": "e715a77e-87f6-4aba-932b-193bc041a965",
   "metadata": {},
   "source": [
    "Gegeben ist ein logischer Ausdruck. Übersetzen Sie diesen Ausdruck in Python code. Damit Sie den Code ausführen und somit auf Syntaxfehler vom Interpreter achten können, nutzen Sie dafür die konkreten Werte $x=5,\\:y=5,\\:z=3,\\:t=True,\\:f=False$.\n",
    "Durch eben diese konkreten Werte entstehen Tautologien. Es sollen **keine** vereinfachungen durchgeführt werden. "
   ]
  },
  {
   "cell_type": "markdown",
   "id": "dd15cb56-7f16-4439-8eb9-378632ea7ca4",
   "metadata": {},
   "source": [
    "<font size=\"12\">$ausdruck = $</font>\n",
    "\n",
    "<font size=\"12\">$(x=y \\land ((x=z \\lor \\neg(y < z)) \\lor$</font>  \n",
    "\n",
    "<font size=\"12\">$\\neg((\\neg t \\lor f) \\land (t \\land \\neg (x < z)))))$</font>"
   ]
  },
  {
   "cell_type": "markdown",
   "id": "dd0f1eda-6e1f-4727-97e2-ae0db48be177",
   "metadata": {},
   "source": [
    "Wenn Sie alternativ nicht den obigen Ausdruck nutzen möchten, können Sie auch den unten stehenden C-code in Python code übersetzen. \n",
    "Der C-code unten und der Ausdruck oben sind äquivalent."
   ]
  },
  {
   "cell_type": "markdown",
   "id": "6299c527-04ab-4d3a-8040-975b9936c120",
   "metadata": {},
   "source": [
    "## Äquivalenter C-code als optionale Hilfe"
   ]
  },
  {
   "cell_type": "markdown",
   "id": "822f4a74-276b-495e-8adf-e80266187e9a",
   "metadata": {},
   "source": [
    "```{toggle}\n",
    "```C\n",
    "// Äquivalenter C-code\n",
    "int x = 5;\n",
    "int y = 5;\n",
    "int z = 3;\n",
    "int t = 1;\n",
    "int f = 0;\n",
    "\n",
    "printf(\"%d\", \n",
    "    x==y && ( (x == z || !(y < z)) || !((!t || f) && (t && !(x < z)))) \n",
    ");\n",
    "```"
   ]
  },
  {
   "cell_type": "markdown",
   "id": "8cf55df1-257c-4bab-8e9e-b0d28585248d",
   "metadata": {},
   "source": [
    "## Ihre Antwort"
   ]
  },
  {
   "cell_type": "code",
   "execution_count": 1,
   "id": "94d2939c-f372-438d-bf13-8a9a9868255a",
   "metadata": {},
   "outputs": [
    {
     "name": "stdout",
     "output_type": "stream",
     "text": [
      "Warten auf Ausdruck...\n"
     ]
    }
   ],
   "source": [
    "# Hier können Sie ihren Versuch schreiben...\n",
    "# Ersetzen Sie hierfür den String mit Ihrem Code.\n",
    "x = 5\n",
    "y = 5\n",
    "z = 3\n",
    "t = True\n",
    "f = False\n",
    "\n",
    "print(\n",
    "    \"Warten auf Ausdruck...\"\n",
    ")"
   ]
  },
  {
   "cell_type": "markdown",
   "id": "3bc83898-0093-44cc-bedd-bd1168271bb8",
   "metadata": {},
   "source": [
    "# Lösung"
   ]
  },
  {
   "cell_type": "markdown",
   "id": "00c4e2e1-3943-4350-8367-79fed79f4519",
   "metadata": {},
   "source": [
    "```{toggle}\n",
    "\n",
    "Hier ist die Musterlösung. Sie können natürlich auch mehr Klammern nutzen, um nicht auf Bindungsstärke der Operatoren achten zu müssen.\n",
    "\n",
    "```Python\n",
    "x = 5\n",
    "y = 5\n",
    "z = 3\n",
    "t = True\n",
    "f = False\n",
    "\n",
    "print( \n",
    "    x == y and ( (x == z or not (y < z)) or not ((not t or f) and (t and not (x < z))))\n",
    ")\n",
    "# True\n",
    "```"
   ]
  }
 ],
 "metadata": {
  "kernelspec": {
   "display_name": "Python 3 (ipykernel)",
   "language": "python",
   "name": "python3"
  },
  "language_info": {
   "codemirror_mode": {
    "name": "ipython",
    "version": 3
   },
   "file_extension": ".py",
   "mimetype": "text/x-python",
   "name": "python",
   "nbconvert_exporter": "python",
   "pygments_lexer": "ipython3",
   "version": "3.9.13"
  }
 },
 "nbformat": 4,
 "nbformat_minor": 5
}
