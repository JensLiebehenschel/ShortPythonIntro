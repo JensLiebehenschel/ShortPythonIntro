{
 "cells": [
  {
   "cell_type": "markdown",
   "metadata": {},
   "source": [
    "# Logische Ausdrücke"
   ]
  },
  {
   "cell_type": "markdown",
   "metadata": {},
   "source": [
    "## Der Datentyp Boolean"
   ]
  },
  {
   "cell_type": "markdown",
   "metadata": {},
   "source": [
    "Nun geht es um logische Ausdrücke.\n",
    "\n",
    "In Python gibt es den Datentyp Boolean.\n",
    "Dieser kann zwei Werte annehmen: Wahr und Falsch, auf Englisch True und False.\n",
    "\n",
    "<code>True</code> und <code>False</code> sind in Python Keywords.\n",
    "Der Anfangsbuchstabe muss groß geschrieben sein und der Rest klein.\n",
    "```Python\n",
    "Korrekt:\n",
    "x = True\n",
    "y = False\n",
    "\n",
    "Falsch:\n",
    "x = true\n",
    "y = false\n",
    "x = TRUE\n",
    "y = FALSE\n",
    "x = tRuE\n",
    "y = fAlSe\n",
    "```\n",
    "Benutzt man einen Editor mit Python Syntax Highlighting oder gar Autocompletion, wird man anhand der Hervorhebung wie beim Beispiel oben, erkennen, ob man es richtig geschrieben hat oder nicht."
   ]
  },
  {
   "cell_type": "markdown",
   "metadata": {},
   "source": [
    "## Logische Ausdrücke"
   ]
  },
  {
   "cell_type": "markdown",
   "metadata": {},
   "source": [
    "Der Vergleichsoperator, welcher auf Gleichheit prüft, ist wie in fast allen Programmiersprachen auch <code>&equals;&equals;</code>.\n",
    "Auf Ungleichheit prüft der Operator <code>!&equals;</code>.\n",
    "```Python\n",
    "x = 5\n",
    "y = 5\n",
    "\n",
    "print(x == y)\n",
    "# True\n",
    "\n",
    "print(x != y)\n",
    "# False\n",
    "```\n",
    "Um zu prüfen, ob eine Variable einen Nullwert hat, kann man entweder die obigen Vergleichsoperatoren oder das Keyword <code>is</code> nutzen:\n",
    "```Python\n",
    "x = None\n",
    "\n",
    "print(x == None)\n",
    "# True\n",
    "\n",
    "print(x != None)\n",
    "# False\n",
    "\n",
    "print(x is None)\n",
    "# True\n",
    "\n",
    "print(x is not None)\n",
    "# False\n",
    "\n",
    "# Alternativ:\n",
    "print(not x is None)\n",
    "# False\n",
    "```\n",
    "\n",
    "\n",
    "Vergleiche von konkreten Werten sind mit <code>&gt;,&lt;,&gt;&equals;,&lt;&equals;</code> ebenfalls möglich.\n",
    "\n",
    "Um einen booleschen Ausdruck zu negieren, benutzt man in C ein Ausrufezeichen:\n",
    "```C\n",
    "int x = 5;\n",
    "int y = 5;\n",
    "\n",
    "printf(\"%d\", !(x == y));\n",
    "// 0 bzw. False\n",
    "```\n",
    "In Python gibt es dafür das keyword <code>not</code>.\n",
    "Das oben geschriebene Beispiel in Python wäre also\n",
    "```Python\n",
    "x = 5\n",
    "y = 5\n",
    "\n",
    "print(not (x == y))\n",
    "# False\n",
    "```\n",
    "\n",
    "Die gleiche Vorgehensweise gilt beim \"logischen Und\" und beim \"logischen Oder\".\n",
    "\n",
    "Die entsprechenden Keywords sind <code>and</code> und <code>or</code>.\n",
    "\n",
    "```C\n",
    "int x = 1; // bzw. True\n",
    "int y = 0; // bzw. False\n",
    "int z = 1; // bzw. True\n",
    "\n",
    "printf(\"%d\", x && z);\n",
    "// 1 bzw. True\n",
    "\n",
    "printf(\"%d\", x && y);\n",
    "// 0 bzw. False\n",
    "\n",
    "printf(\"%d\", x || y);\n",
    "// 1 bzw. True\n",
    "```\n",
    "Python:\n",
    "```Python\n",
    "x = True\n",
    "y = False\n",
    "z = True\n",
    "\n",
    "print(x and z)\n",
    "# True\n",
    "\n",
    "print(x and y)\n",
    "# False\n",
    "\n",
    "print(x or y)\n",
    "# True\n",
    "```"
   ]
  },
  {
   "cell_type": "markdown",
   "metadata": {},
   "source": [
    "## Aufgabe"
   ]
  },
  {
   "cell_type": "markdown",
   "metadata": {},
   "source": [
    "Gegeben ist ein logischer Ausdruck. Übersetzen Sie diesen Ausdruck in Python-Code. Damit Sie den Code ausführen können und somit Syntaxfehler vom Interpreter erhalten, nutzen Sie dafür die konkreten Werte $x=5$, $y=5$, $z=3$, $t=True$ und $f=False$.\n",
    "Durch eben diese konkreten Werte entstehen Tautologien. Es sollen **keine** Vereinfachungen durchgeführt werden."
   ]
  },
  {
   "cell_type": "markdown",
   "metadata": {},
   "source": [
    "<font size=\"12\">$ausdruck = $</font>\n",
    "\n",
    "<font size=\"12\">$(x=y \\land ((x=z \\lor \\neg(y < z)) \\lor$</font>  \n",
    "\n",
    "<font size=\"12\">$\\neg((\\neg t \\lor f) \\land (t \\land \\neg (x < z)))))$</font>"
   ]
  },
  {
   "cell_type": "markdown",
   "metadata": {},
   "source": [
    "Wenn Sie alternativ nicht den obigen Ausdruck nutzen möchten, können Sie auch den unten stehenden C-Code in Python-Code übersetzen. \n",
    "Der C-Code unten und der Ausdruck oben sind äquivalent."
   ]
  },
  {
   "cell_type": "markdown",
   "metadata": {},
   "source": [
    ":::{admonition} Äquivalenter C-Code als optionale Hilfe\n",
    ":class: dropdown\n",
    "\n",
    "```C\n",
    "// Äquivalenter C-Code\n",
    "int x = 5;\n",
    "int y = 5;\n",
    "int z = 3;\n",
    "int t = 1;\n",
    "int f = 0;\n",
    "\n",
    "printf(\"%d\", \n",
    "    x==y && ( (x == z || !(y < z)) || !((!t || f) && (t && !(x < z)))) \n",
    ");\n",
    "```\n",
    "\n",
    ":::"
   ]
  },
  {
   "cell_type": "markdown",
   "metadata": {},
   "source": [
    "### Ihre Antwort"
   ]
  },
  {
   "cell_type": "code",
   "execution_count": 1,
   "metadata": {},
   "outputs": [
    {
     "name": "stdout",
     "output_type": "stream",
     "text": [
      "Ellipsis\n"
     ]
    }
   ],
   "source": [
    "# Hier können Sie ihren Versuch schreiben...\n",
    "# Ersetzen Sie hierfür die drei Punkte unten durch Ihren Code.\n",
    "x = 5\n",
    "y = 5\n",
    "z = 3\n",
    "t = True\n",
    "f = False\n",
    "\n",
    "print(\n",
    "    ...\n",
    ")"
   ]
  },
  {
   "cell_type": "markdown",
   "metadata": {},
   "source": [
    ":::{admonition} Lösung\n",
    ":class: dropdown\n",
    "\n",
    "Hier ist die Musterlösung. Sie können natürlich auch mehr Klammern nutzen, um nicht auf Bindungsstärke der Operatoren achten zu müssen.\n",
    "\n",
    "```Python\n",
    "x = 5\n",
    "y = 5\n",
    "z = 3\n",
    "t = True\n",
    "f = False\n",
    "\n",
    "print( \n",
    "    x == y and ( (x == z or not (y < z)) or not ((not t or f) and (t and not (x < z))))\n",
    ")\n",
    "# True\n",
    "```\n",
    "\n",
    ":::"
   ]
  }
 ],
 "metadata": {
  "kernelspec": {
   "display_name": "Python 3",
   "language": "python",
   "name": "python3"
  },
  "language_info": {
   "codemirror_mode": {
    "name": "ipython",
    "version": 3
   },
   "file_extension": ".py",
   "mimetype": "text/x-python",
   "name": "python",
   "nbconvert_exporter": "python",
   "pygments_lexer": "ipython3",
   "version": "3.8.5"
  }
 },
 "nbformat": 4,
 "nbformat_minor": 5
}
