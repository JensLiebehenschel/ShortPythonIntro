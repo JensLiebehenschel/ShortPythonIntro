{
 "cells": [
  {
   "cell_type": "markdown",
   "metadata": {},
   "source": [
    "# Erstellen von Kommentaren"
   ]
  },
  {
   "cell_type": "markdown",
   "metadata": {},
   "source": [
    "Kommentare in Python sind relativ simpel. Es gibt nur einen Weg Kommentare zu erstellen.\n",
    "Wenn außerhalb eines Strings ein Rautezeichen (<code>#</code>) vorkommt, so wird alles in dieser Zeile rechts vom Rautezeichen steht als Kommentar gewertet."
   ]
  },
  {
   "cell_type": "markdown",
   "metadata": {},
   "source": [
    "```Python\n",
    "x = 5 # Gib x den Wert 5\n",
    "#      ^^^^^^^^^^^^^^^^^\n",
    "#Code  Kommentar\n",
    "```"
   ]
  },
  {
   "cell_type": "markdown",
   "metadata": {},
   "source": [
    "Es gibt eigentlich keinen Weg, einen Kommentar über mehrere Zeilen hinweg zu erstellen\n",
    "wie in u.a. C/C++/Java mit\n",
    "```C\n",
    "/*\n",
    "    Das ist Kommentar\n",
    "    Das hier auch\n",
    "    Das hier ebenfalls\n",
    "*/\n",
    "\n",
    "```\n",
    "Somit müsste man in Python jede Zeile einzeln auskommentieren."
   ]
  },
  {
   "cell_type": "markdown",
   "metadata": {},
   "source": [
    "```Python\n",
    "#   Das ist ein Kommentar\n",
    "#   Das hier auch\n",
    "#   Das hier ebenfalls\n",
    "```"
   ]
  },
  {
   "cell_type": "markdown",
   "metadata": {},
   "source": [
    "Um das Leben einfacher zu machen, ist es möglich, den auszukommentierenden Inhalt als einen String ohne Zuweisung zu speichern. Somit fällt der betroffene Code einfach weg.\n",
    "Das funktioniert, indem man jeweils am Anfang und Ende des auszukommentierenden Bereichs sogenannte \"triple quotes\" einfügt. Damit bezeichnet man drei aufeinanderfolgende Anführungszeichen."
   ]
  },
  {
   "cell_type": "markdown",
   "metadata": {},
   "source": [
    "## Aufgabe"
   ]
  },
  {
   "cell_type": "markdown",
   "metadata": {},
   "source": [
    "Jetzt sind Sie an der Reihe!\n",
    "Sorgen Sie **OHNE** Code zu entfernen oder zu verschieben dafür, dass das Programm \"Hello World!\" ausgibt.\n",
    "Sie dürfen nur zwei triple quotes (<code>\"\"\"</code>) nutzen."
   ]
  },
  {
   "cell_type": "code",
   "execution_count": 1,
   "metadata": {},
   "outputs": [
    {
     "name": "stdout",
     "output_type": "stream",
     "text": [
      "5050\n"
     ]
    }
   ],
   "source": [
    "my_output = \"Hello World!\"\n",
    "\n",
    "my_output = 0\n",
    "\n",
    "for i in range(1, 100+1):\n",
    "    \n",
    "    my_output += i\n",
    "\n",
    "print(my_output)"
   ]
  },
  {
   "cell_type": "markdown",
   "metadata": {
    "tags": []
   },
   "source": [
    ":::{admonition} Lösung\n",
    ":class: dropdown\n",
    "\n",
    "```Python\n",
    "my_output = \"Hello World!\"\n",
    "\"\"\"\n",
    "my_output = 0\n",
    "\n",
    "for i in range(1, 100+1):\n",
    "    \n",
    "    my_output += i\n",
    "\"\"\"\n",
    "print(my_output)\n",
    "# \"Hello World!\"\n",
    "```"
   ]
  }
 ],
 "metadata": {
  "kernelspec": {
   "display_name": "Python 3",
   "language": "python",
   "name": "python3"
  },
  "language_info": {
   "codemirror_mode": {
    "name": "ipython",
    "version": 3
   },
   "file_extension": ".py",
   "mimetype": "text/x-python",
   "name": "python",
   "nbconvert_exporter": "python",
   "pygments_lexer": "ipython3",
   "version": "3.8.5"
  }
 },
 "nbformat": 4,
 "nbformat_minor": 5
}
