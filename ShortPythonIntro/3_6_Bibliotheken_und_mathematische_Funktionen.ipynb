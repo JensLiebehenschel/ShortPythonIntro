{
 "cells": [
  {
   "cell_type": "markdown",
   "id": "7bcbf1de",
   "metadata": {},
   "source": [
    "# Bibliotheken und mathematische Funktionen\n",
    "\n",
    "## Importieren einer Bibliothek\n",
    "\n",
    "Python hat eine enorme Auswahl an Bibliotheken.\n",
    "Seien es nun Bibliotheken, um Grafiken zu erstellen oder Bibliotheken für Machine Learning.\n",
    "\n",
    "Von Interesse für AlgDat sind jedoch mathematische Bibliotheken.\n",
    "Mit diesen Bibliotheken kann man Funktion verwenden, um eine Quadratwurzel zu ziehen oder einen Logarithmus zu berechnen.\n",
    "\n",
    "Um diese hilfreichen Funktionen nutzen zu können, muss man diese Bibliotheken erst importieren.\n",
    "Funktioniert von der Logik genauso wie das Importieren von Bilbiotheken in C.\n",
    "Es gibt ein Keyword gefolgt vom Bibliothekennamen, daraufhin kann man diese Bibliothek dann nutzen.\n",
    "\n",
    "In C:\n",
    "```C\n",
    "#include <Bibliotheksname.h>\n",
    "```\n",
    "\n",
    "In Python wird das Keyword <code>import</code> genutzt:\n",
    "```Python\n",
    "import Bibliotheksname\n",
    "```\n",
    "\n",
    "Für Berechnungen von Quadratwurzeln oder Logarithmen muss man die Bibliothek <code>math</code> importieren.\n",
    "\n",
    "Also braucht man die Zeile\n",
    "```Python\n",
    "import math\n",
    "```\n",
    "bevor man diese Funktionen nutzen kann.\n",
    "\n",
    "\n",
    "## Funktionen der math-Bibliothek\n",
    "\n",
    "Nach dem Import der math-Bibliothek erfolgt der Zugriff auf die Funktionen durch Voranstellen des Präfixes <code>Bibliotheksname.</code>. Damit wird ausgedrückt, dass wir die Funktion dieser Bibliothek meinen.\n",
    "\n",
    "Konkret wäre das Präfix hier also <code>math.</code>.\n",
    "\n",
    "Die Quadratwurzel von 25 könnte man also wie folgt berechnen:\n",
    "```Python\n",
    "x = math.sqrt(25)\n",
    "print(x)\n",
    "# 5\n",
    "```\n",
    "\n",
    "Um den 10-er Logarithmus von x zu berechnen, kann man die Funktion <code>math.log10(x)</code> nutzen\n",
    "```Python\n",
    "x = math.log10(100)\n",
    "print(x)\n",
    "# 2\n",
    "```\n",
    "\n",
    "Weitere Funktionen wie etwa trigonometrische Funktionen können bei Bbedarf in der englischsprachigen <a href=\"https://docs.python.org/3/library/math.html\" target=\"_blank\">Python Referenz</a> nachgelesen werden."
   ]
  },
  {
   "cell_type": "markdown",
   "id": "485d5604",
   "metadata": {},
   "source": [
    "## Aufgabe\n",
    "\n",
    "Hier ist die Gleichung für die Dichtefunktion der <a href=\"https://de.wikipedia.org/wiki/Normalverteilung\" target=\"_blank\">Normalverteilung</a>. Die Normalverteilung ist auch als \"Gaußsche Glockenkurve\" bekannt.\n",
    "Es geht hier nicht darum, diese Formel zu verstehen. Den ersten Kontakt mit dieser Formel werden Sie im 3. Semester in Statistik haben und dort benutzt man Programme, welche Werte für diesen Ausdruck berechnen.\n",
    "Wir haben diese Formel ausgesucht, da man hier testen kann, ob man mathematische Operatoren und Funktionen verstanden hat.\n",
    "Es geht nur darum, diese Formel in Code umzuschreiben und das Ergebnis zu berechnen für die konkreten Werte $ \\mu =3$, $\\sigma = 5$ und $x=4$."
   ]
  },
  {
   "cell_type": "markdown",
   "id": "abe5d0f7",
   "metadata": {},
   "source": [
    "<font size=\"14\">$f(x\\:|\\:\\mu,\\sigma^2)=\\frac{1}{\\sigma\\sqrt{2\\pi}}e^{-\\frac{1}{2}(\\frac{x-\\mu}{\\sigma})^2}$</font>"
   ]
  },
  {
   "cell_type": "markdown",
   "id": "aea154a9",
   "metadata": {},
   "source": [
    "Um das einfacher zu machen, ist die Formel im Folgenden umgeschrieben, unter anderem wurden alle griechischen Buchstaben (bis auf <code>pi</code>) umbenannt. \n",
    "Als Variablennamen sollen Sie nun die Ausdrücke der unten stehenden Gleichung verwenden."
   ]
  },
  {
   "cell_type": "markdown",
   "id": "258fa759",
   "metadata": {},
   "source": [
    "<font size=\"14\">$result=\\frac{1}{sigma\\cdot\\sqrt{2\\cdot\\pi}}\\cdot e^{-\\frac{1}{2}\\cdot(\\frac{x-mu}{sigma})^2}$</font>"
   ]
  },
  {
   "cell_type": "markdown",
   "id": "e514608a",
   "metadata": {},
   "source": [
    "Den Wert für $\\pi$ können Sie mit <code>math.pi</code> aufrufen.\n",
    "Den Wert für $e$ können Sie mit <code>math.e</code> aufrufen. Denken Sie an Klammersetzung.\n",
    "\n",
    "Also zum Beispiel: \n",
    "\n",
    "```Python\n",
    "result = (a + b + c\n",
    "         + d + e)\n",
    "```\n",
    "\n",
    "Viel Erfolg!"
   ]
  },
  {
   "cell_type": "code",
   "execution_count": 1,
   "id": "7370713f",
   "metadata": {},
   "outputs": [
    {
     "name": "stdout",
     "output_type": "stream",
     "text": [
      "Ellipsis\n"
     ]
    }
   ],
   "source": [
    "# Hier können Sie ihren Versuch schreiben ...\n",
    "# Ersetzen sie hierfür \"...\" mit ihrem Code.\n",
    "# Das Ergebnis der Formel soll ausgegeben werden.\n",
    "# Brauchen Sie vielleicht eine Bibliothek?\n",
    "\n",
    "mu = 3\n",
    "sigma = 5\n",
    "x = 4\n",
    "print(\n",
    "    ...\n",
    ")"
   ]
  },
  {
   "cell_type": "markdown",
   "id": "c953e9c5",
   "metadata": {
    "tags": []
   },
   "source": [
    ":::{admonition} Lösung\n",
    ":class: dropdown\n",
    "\n",
    "```Python\n",
    "import math\n",
    "mu = 3\n",
    "sigma = 5\n",
    "x = 4\n",
    "print(\n",
    "    (1/(sigma * math.sqrt(2*math.pi))) \n",
    "    * math.e ** (-(1/2) * ((x-mu)/sigma) ** 2)\n",
    ")\n",
    "# 0.07820853879509118\n",
    "```\n",
    "\n",
    "Dies ist nur eine Musterlösung. \n",
    "Sie können die Formel natürlich auch anders aufschreiben. \n",
    "Solange das Ergebnis stimmt, ist Ihre Lösung sehr wahrscheinlich ebenfalls korrekt.\n",
    "\n",
    ":::"
   ]
  }
 ],
 "metadata": {
  "kernelspec": {
   "display_name": "Python 3 (ipykernel)",
   "language": "python",
   "name": "python3"
  },
  "language_info": {
   "codemirror_mode": {
    "name": "ipython",
    "version": 3
   },
   "file_extension": ".py",
   "mimetype": "text/x-python",
   "name": "python",
   "nbconvert_exporter": "python",
   "pygments_lexer": "ipython3",
   "version": "3.9.13"
  }
 },
 "nbformat": 4,
 "nbformat_minor": 5
}
