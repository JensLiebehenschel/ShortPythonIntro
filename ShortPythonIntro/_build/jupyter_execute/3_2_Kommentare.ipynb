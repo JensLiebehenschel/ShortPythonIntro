{
 "cells": [
  {
   "cell_type": "markdown",
   "id": "8424c40f-90f1-4fb9-a69b-a772f31de409",
   "metadata": {},
   "source": [
    "# Erstellen von Kommentaren"
   ]
  },
  {
   "cell_type": "markdown",
   "id": "0b25fbe0-135e-4cea-b2fb-6de06a0e24aa",
   "metadata": {},
   "source": [
    "## **DIESE PYTHON EINFÜHRUNG IST WORK-IN-PROGRESS. ES KÖNNEN NOCH ÄNDERUNGEN VORGENOMMEN WERDEN.**"
   ]
  },
  {
   "cell_type": "markdown",
   "id": "233ce084-2c98-469f-8d49-39fa0cafba33",
   "metadata": {},
   "source": [
    "Kommentare in Python sind relativ simpel. Es gibt nur einen Weg Kommentare zu erstellen.\n",
    "Wenn außerhalb eines Strings ein Rautezeichen(<code>#</code>) vorkommt, so wird alles was in dieser Zeile rechts vom Rautezeichen steht, als Kommentar gewertet"
   ]
  },
  {
   "cell_type": "markdown",
   "id": "a90aa6d3-adda-427f-99dc-94baac051477",
   "metadata": {},
   "source": [
    "```Python\n",
    "x = 5 # Gib x den Wert 5\n",
    "#      ^^^^^^^^^^^^^^^^^\n",
    "#Code  Kommentar\n",
    "```"
   ]
  },
  {
   "cell_type": "markdown",
   "id": "39ae9a61-5b2b-4f3a-b8a9-735c1290f208",
   "metadata": {},
   "source": [
    "Es gibt eigentlich keinen Weg, einen Kommentar über mehrere Zeilen hinweg zu erstellen\n",
    "wie in u.a. C/C++/Java mit\n",
    "```C\n",
    "/*\n",
    "    Das ist kommentar\n",
    "    Das hier auch\n",
    "    Das hier ebenfalls\n",
    "*/\n",
    "\n",
    "```\n",
    "Somit müsste man in Python jede Zeile einzeln auskommentieren."
   ]
  },
  {
   "cell_type": "markdown",
   "id": "e1e9c534-7fc8-4fc5-8dce-7c603a07dab0",
   "metadata": {},
   "source": [
    "```Python\n",
    "#   Das ist ein kommentar\n",
    "#   Das hier auch\n",
    "#   Das hier ebenfalls\n",
    "```"
   ]
  },
  {
   "cell_type": "markdown",
   "id": "76163276-cdcb-40f6-8e04-c36452760fbc",
   "metadata": {},
   "source": [
    "Um das Leben einfacher zu machen, ist es jedoch trotzdessen möglich etwas ähnliches zu erzielen indem man den auszukommentierenden Inhalt als einen String ohne Zuweisung speichert. Somit fällt der betroffene Code weg.\n",
    "Das Funktioniert indem man jeweils am Anfang und Ende des auszukommentierenden Bereichs sogenannte \"triple quotes\" einfügt. Damit bezeichnet man drei aufeinanderfolgende Anführungszeichen."
   ]
  },
  {
   "cell_type": "markdown",
   "id": "47bfcc33-a95c-4410-9394-850f14dbcd5a",
   "metadata": {},
   "source": [
    "# Aufgabe"
   ]
  },
  {
   "cell_type": "markdown",
   "id": "479aa34a-05a1-420b-a247-dbd83573591a",
   "metadata": {},
   "source": [
    "Jetzt sind Sie an der Reihe!\n",
    "Sorgen sie **OHNE** Code zu entfernen oder zu verschieben dafür, dass der Output \"Hello World!\" geprinted wird.\n",
    "Sie dürfen nur zwei triple quotes (<code>\"\"\"</code>) nutzen"
   ]
  },
  {
   "cell_type": "code",
   "execution_count": 1,
   "id": "41d7b83c-1b80-403b-bf79-1e2c2083ae4d",
   "metadata": {},
   "outputs": [
    {
     "name": "stdout",
     "output_type": "stream",
     "text": [
      "5050\n"
     ]
    }
   ],
   "source": [
    "my_output = \"Hello World!\"\n",
    "\n",
    "my_output = 0\n",
    "\n",
    "for i in range(1, 100+1):\n",
    "    \n",
    "    my_output += i\n",
    "\n",
    "print(my_output)"
   ]
  },
  {
   "cell_type": "markdown",
   "id": "bd79e008-5c92-47bd-b1df-7707b1d824ce",
   "metadata": {
    "tags": []
   },
   "source": [
    ":::{admonition} Show solution\n",
    ":class: dropdown\n",
    "\n",
    "```Python\n",
    "my_output = \"Hello World!\"\n",
    "\"\"\"\n",
    "my_output = 0\n",
    "\n",
    "for i in range(1, 100+1):\n",
    "    \n",
    "    my_output += i\n",
    "\"\"\"\n",
    "print(my_output)\n",
    "# \"Hello World!\"\n",
    "```"
   ]
  }
 ],
 "metadata": {
  "kernelspec": {
   "display_name": "Python 3 (ipykernel)",
   "language": "python",
   "name": "python3"
  },
  "language_info": {
   "codemirror_mode": {
    "name": "ipython",
    "version": 3
   },
   "file_extension": ".py",
   "mimetype": "text/x-python",
   "name": "python",
   "nbconvert_exporter": "python",
   "pygments_lexer": "ipython3",
   "version": "3.9.13"
  }
 },
 "nbformat": 4,
 "nbformat_minor": 5
}