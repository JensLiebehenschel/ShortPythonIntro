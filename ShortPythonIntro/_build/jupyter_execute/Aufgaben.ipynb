{
 "cells": [
  {
   "cell_type": "markdown",
   "id": "756859c9-4c8f-4222-ba5f-fb054e93d934",
   "metadata": {},
   "source": [
    "# Weitere Aufgaben"
   ]
  },
  {
   "cell_type": "markdown",
   "id": "959281eb-65bf-46a0-a68f-f37a4b0b66b6",
   "metadata": {},
   "source": [
    "## **DIESE PYTHON EINFÜHRUNG IST WORK-IN-PROGRESS. ES KÖNNEN NOCH ÄNDERUNGEN VORGENOMMEN WERDEN.**"
   ]
  },
  {
   "cell_type": "markdown",
   "id": "2ca881b9-04cd-4e71-8534-ffd2668c84fa",
   "metadata": {},
   "source": [
    "# FizzBuzz"
   ]
  },
  {
   "cell_type": "markdown",
   "id": "9c8b07e6-8cf7-48e9-8e7f-bbb441c3aba1",
   "metadata": {},
   "source": [
    "Eine sehr beliebte Aufgabe für Einsteiger einer Programmiersprache, ist das FizzBuzz Problem.\n",
    "\n",
    "Das Problem sieht wie folgt aus:\n",
    "\n",
    "- Es sollen die Zahlen 1 bis inklusive 100 untereinander ausgegeben werden.\n",
    "\n",
    "- Hierbei sollen jedoch Zahlen, welche durch 3 teilbar sind, durch den String <code>\"Fizz\"</code> ersetzt werden.\n",
    "\n",
    "- Zahlen, welche durch 5 teilbar sind, sollen durch den String <code>\"Buzz\"</code> ersetzt werden.\n",
    "\n",
    "- Wenn eine Zahl durch 3 als auch durch 5 teilbar ist, soll die Zahl durch den String <code>\"FizzBuzz\"</code> ersetzt werden\n",
    "\n",
    "\n",
    "Der Output soll so aussehen:"
   ]
  },
  {
   "cell_type": "markdown",
   "id": "22b69d88-a53c-4b5d-a929-3eb2a277b742",
   "metadata": {},
   "source": [
    "```\n",
    "Output    Zahl\n",
    "\n",
    "1         1\n",
    "2         2\n",
    "Fizz      3\n",
    "4         4\n",
    "Buzz      5\n",
    "Fizz      6\n",
    "7         7\n",
    "8         8\n",
    "Fizz      9\n",
    "Buzz      10\n",
    "11        11\n",
    "Fizz      12\n",
    "13        13\n",
    "14        14\n",
    "FizzBuzz  15\n",
    "16        16\n",
    "...       ...\n",
    "98        98\n",
    "Fizz      99\n",
    "Buzz      100\n",
    "```\n",
    "\n",
    "Die Zahlen rechts sind nur zur Veranschaulichung da. Sie müssen diese nicht ausgeben lassen!"
   ]
  },
  {
   "cell_type": "markdown",
   "id": "fd2ae336-ee2f-45b2-bc6c-8c4278def4b0",
   "metadata": {},
   "source": [
    "## Ihre Antwort"
   ]
  },
  {
   "cell_type": "code",
   "execution_count": 1,
   "id": "b68a64a7-aed5-4337-94b4-e6f5237e2478",
   "metadata": {},
   "outputs": [],
   "source": [
    "# Hier können Sie das FizzBuzz Problem lösen\n"
   ]
  },
  {
   "cell_type": "markdown",
   "id": "f98ebdb3-dd56-409d-a92d-d5d2c39f0314",
   "metadata": {
    "tags": []
   },
   "source": [
    ":::{admonition} Show FizzBuzz solution\n",
    ":class: dropdown\n",
    "\n",
    "```Python\n",
    "for number in range(1, 101):\n",
    "    if number % 3 == 0 and number % 5 == 0:\n",
    "        print(\"FizzBuzz\")\n",
    "    elif number % 3 == 0:\n",
    "        print(\"Fizz\")\n",
    "    elif number % 5 == 0:\n",
    "        print(\"Buzz\")\n",
    "    else:\n",
    "        print(number)\n",
    "```\n",
    "\n",
    "Erklärung der obigen Lösung: \n",
    "\n",
    "<code>range(1, 101)</code>, da es bei <code>1</code> starten soll und bis inklusive <code>100</code> gehen soll. (Inklusive <code>100</code> --> Exklusive <code>101</code> --> <code>range(1, 101)</code>)\n",
    "\n",
    "Zahl ist durch <code>n</code> teilbar --> <code>zahl % n == 0</code>.\n",
    "\n",
    "Sprich: Es gibt keinen Rest bei der Division <code>zahl / n</code>.\n",
    "\n",
    "Es gibt viele Lösungen für diese bekannte Programmieraufgabe. Man könnte etwa mit Strings arbeiten und bei bedarf Fizz und Buzz konkatenieren.\n",
    "Alternativ könnte man auch mit Lambdas arbeiten, das ist hier definitiv aber nicht von Relevanz\n",
    "\n",
    ":::"
   ]
  }
 ],
 "metadata": {
  "kernelspec": {
   "display_name": "Python 3 (ipykernel)",
   "language": "python",
   "name": "python3"
  },
  "language_info": {
   "codemirror_mode": {
    "name": "ipython",
    "version": 3
   },
   "file_extension": ".py",
   "mimetype": "text/x-python",
   "name": "python",
   "nbconvert_exporter": "python",
   "pygments_lexer": "ipython3",
   "version": "3.9.13"
  }
 },
 "nbformat": 4,
 "nbformat_minor": 5
}