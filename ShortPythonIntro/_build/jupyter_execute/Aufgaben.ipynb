{
 "cells": [
  {
   "cell_type": "markdown",
   "id": "756859c9-4c8f-4222-ba5f-fb054e93d934",
   "metadata": {},
   "source": [
    "# Weitere Aufgaben"
   ]
  },
  {
   "cell_type": "markdown",
   "id": "959281eb-65bf-46a0-a68f-f37a4b0b66b6",
   "metadata": {},
   "source": [
    "## **DIESE PYTHON EINFÜHRUNG IST WORK-IN-PROGRESS. ES KÖNNEN NOCH ÄNDERUNGEN VORGENOMMEN WERDEN.**"
   ]
  },
  {
   "cell_type": "markdown",
   "id": "2ca881b9-04cd-4e71-8534-ffd2668c84fa",
   "metadata": {},
   "source": [
    "# FizzBuzz"
   ]
  },
  {
   "cell_type": "markdown",
   "id": "9c8b07e6-8cf7-48e9-8e7f-bbb441c3aba1",
   "metadata": {},
   "source": [
    "Eine sehr beliebte Aufgabe für Einsteiger einer Programmiersprache, ist das FizzBuzz Problem.\n",
    "\n",
    "Das Problem sieht wie folgt aus:\n",
    "\n",
    "- Es sollen die Zahlen 1 bis inklusive 100 untereinander ausgegeben werden.\n",
    "\n",
    "- Hierbei sollen jedoch Zahlen, welche durch 3 teilbar sind, durch den String <code>\"Fizz\"</code> ersetzt werden.\n",
    "\n",
    "- Zahlen, welche durch 5 teilbar sind, sollen durch den String <code>\"Buzz\"</code> ersetzt werden.\n",
    "\n",
    "- Wenn eine Zahl durch 3 als auch durch 5 teilbar ist, soll die Zahl durch den String <code>\"FizzBuzz\"</code> ersetzt werden\n",
    "\n",
    "\n",
    "Der Output soll so aussehen:"
   ]
  },
  {
   "cell_type": "markdown",
   "id": "22b69d88-a53c-4b5d-a929-3eb2a277b742",
   "metadata": {},
   "source": [
    "```\n",
    "Output    Zahl\n",
    "\n",
    "1         1\n",
    "2         2\n",
    "Fizz      3\n",
    "4         4\n",
    "Buzz      5\n",
    "Fizz      6\n",
    "7         7\n",
    "8         8\n",
    "Fizz      9\n",
    "Buzz      10\n",
    "11        11\n",
    "Fizz      12\n",
    "13        13\n",
    "14        14\n",
    "FizzBuzz  15\n",
    "16        16\n",
    "...       ...\n",
    "98        98\n",
    "Fizz      99\n",
    "Buzz      100\n",
    "```\n",
    "\n",
    "Die Zahlen rechts sind nur zur Veranschaulichung da. Sie müssen diese nicht ausgeben lassen!"
   ]
  },
  {
   "cell_type": "markdown",
   "id": "fd2ae336-ee2f-45b2-bc6c-8c4278def4b0",
   "metadata": {},
   "source": [
    "## Ihre Antwort"
   ]
  },
  {
   "cell_type": "code",
   "execution_count": 1,
   "id": "b68a64a7-aed5-4337-94b4-e6f5237e2478",
   "metadata": {},
   "outputs": [],
   "source": [
    "# Hier können Sie das FizzBuzz Problem lösen\n"
   ]
  },
  {
   "cell_type": "markdown",
   "id": "12c66e95-9490-4d76-ac15-7a60b2ca90f5",
   "metadata": {},
   "source": [
    "## FizzBuzz Lösung"
   ]
  },
  {
   "cell_type": "code",
   "execution_count": 2,
   "id": "b3c20627-9ba8-413c-9de5-269ccd37079e",
   "metadata": {
    "tags": [
     "hide-cell"
    ]
   },
   "outputs": [
    {
     "name": "stdout",
     "output_type": "stream",
     "text": [
      "1\n",
      "2\n",
      "Fizz\n",
      "4\n",
      "Buzz\n",
      "Fizz\n",
      "7\n",
      "8\n",
      "Fizz\n",
      "Buzz\n",
      "11\n",
      "Fizz\n",
      "13\n",
      "14\n",
      "FizzBuzz\n",
      "16\n",
      "17\n",
      "Fizz\n",
      "19\n",
      "Buzz\n",
      "Fizz\n",
      "22\n",
      "23\n",
      "Fizz\n",
      "Buzz\n",
      "26\n",
      "Fizz\n",
      "28\n",
      "29\n",
      "FizzBuzz\n",
      "31\n",
      "32\n",
      "Fizz\n",
      "34\n",
      "Buzz\n",
      "Fizz\n",
      "37\n",
      "38\n",
      "Fizz\n",
      "Buzz\n",
      "41\n",
      "Fizz\n",
      "43\n",
      "44\n",
      "FizzBuzz\n",
      "46\n",
      "47\n",
      "Fizz\n",
      "49\n",
      "Buzz\n",
      "Fizz\n",
      "52\n",
      "53\n",
      "Fizz\n",
      "Buzz\n",
      "56\n",
      "Fizz\n",
      "58\n",
      "59\n",
      "FizzBuzz\n",
      "61\n",
      "62\n",
      "Fizz\n",
      "64\n",
      "Buzz\n",
      "Fizz\n",
      "67\n",
      "68\n",
      "Fizz\n",
      "Buzz\n",
      "71\n",
      "Fizz\n",
      "73\n",
      "74\n",
      "FizzBuzz\n",
      "76\n",
      "77\n",
      "Fizz\n",
      "79\n",
      "Buzz\n",
      "Fizz\n",
      "82\n",
      "83\n",
      "Fizz\n",
      "Buzz\n",
      "86\n",
      "Fizz\n",
      "88\n",
      "89\n",
      "FizzBuzz\n",
      "91\n",
      "92\n",
      "Fizz\n",
      "94\n",
      "Buzz\n",
      "Fizz\n",
      "97\n",
      "98\n",
      "Fizz\n",
      "Buzz\n"
     ]
    }
   ],
   "source": [
    "# Es gibt viele Lösungen für diese bekannte Programmieraufgabe.\n",
    "# Man könnte etwa mit Strings arbeiten und bei bedarf Fizz und Buzz konkatenieren.\n",
    "# Alternativ könnte man auch mit Lambdas arbeiten,\n",
    "# das ist hier definitiv aber nicht von Relevanz\n",
    "\n",
    "# range(1, 101), da es bei 1 starten soll und bis inklusive 100 gehen soll.\n",
    "# Inklusive 100 --> Exklusive 101 --> range(1, 101)\n",
    "\n",
    "# Zahl ist durch n teilbar --> zahl % n == 0.\n",
    "# Sprich: Es gibt keinen Rest bei der Division zahl / n\n",
    "for number in range(1, 101):\n",
    "    if number % 3 == 0 and number % 5 == 0:\n",
    "        print(\"FizzBuzz\")\n",
    "    elif number % 3 == 0:\n",
    "        print(\"Fizz\")\n",
    "    elif number % 5 == 0:\n",
    "        print(\"Buzz\")\n",
    "    else:\n",
    "        print(number)"
   ]
  }
 ],
 "metadata": {
  "kernelspec": {
   "display_name": "Python 3 (ipykernel)",
   "language": "python",
   "name": "python3"
  },
  "language_info": {
   "codemirror_mode": {
    "name": "ipython",
    "version": 3
   },
   "file_extension": ".py",
   "mimetype": "text/x-python",
   "name": "python",
   "nbconvert_exporter": "python",
   "pygments_lexer": "ipython3",
   "version": "3.9.13"
  }
 },
 "nbformat": 4,
 "nbformat_minor": 5
}