{
 "cells": [
  {
   "cell_type": "markdown",
   "id": "9cb334a6-4b9b-423f-a297-52e37ba9a0dd",
   "metadata": {},
   "source": [
    "# Klassen"
   ]
  },
  {
   "cell_type": "markdown",
   "id": "7beaf7b8-b2ee-4e97-81c4-8972c765db07",
   "metadata": {},
   "source": [
    "## **DIESE PYTHON EINFÜHRUNG IST WORK-IN-PROGRESS. ES KÖNNEN NOCH ÄNDERUNGEN VORGENOMMEN WERDEN.**"
   ]
  },
  {
   "cell_type": "markdown",
   "id": "860b00e0-c23d-4c30-b1f6-98bcdefd4167",
   "metadata": {},
   "source": [
    "**Klassen sind in dem Modul AlgDat nur bei Bäumen von Relevanz. Und da wird eher weniger auf den Python code eingegangen. Entscheiden Sie für sich selbst, ob Sie sich trotzdessen damit auseinandersetzen wollen.**"
   ]
  },
  {
   "cell_type": "markdown",
   "id": "72907578-308c-44a9-9cfb-e71d88647289",
   "metadata": {},
   "source": [
    "Python als objektorientierte Programmiersprache unterstützt natürlich das Konzept von Klassen.\n",
    "\n",
    "Auf Vererbung und sonstiges wird hier nicht eingegangen.\n",
    "Es geht nur darum, die Syntax von Klassenerstellung und Methoden zu verstehen,\n",
    "da es nahezu notwendig ist, wenn man Binärbäume programmieren möchte.\n",
    "\n",
    "Zum definieren einer Klasse wird das keyword <code>class</code> gefolgt vom Klassennamen genutzt.\n",
    "Daraufhin kann man wenn man möchte noch leere runde Klammern setzten und man beendet die Zeile mit einem Doppelpunkt.\n",
    "```Python\n",
    "class meineKlasse:\n",
    "    <Klassendefinition>\n",
    "```\n",
    "und\n",
    "```Python\n",
    "class meineKlasse():\n",
    "    <Klassendefinition>\n",
    "```\n",
    "führen also auf das Gleiche hinaus.\n",
    "Die Klammern nach dem Klassennamen können für Vererbung genutzt werden.\n",
    "\n",
    "Nach dem Doppelpunkt kommt ein Indentierungsblock und dort wird die Funktionalität der Klasse definiert.\n",
    "Hier unterscheidet man zwischen Klassenattributen und Instanzattributen."
   ]
  },
  {
   "cell_type": "markdown",
   "id": "36d54bc1-3f5f-4cfc-8e7b-ab1c52b5918d",
   "metadata": {},
   "source": [
    "## Attribute"
   ]
  },
  {
   "cell_type": "markdown",
   "id": "a8efebcb-bc55-4fbb-9213-28e000a03c8f",
   "metadata": {},
   "source": [
    "Kurzgesagt: Klassenattribute sind für alle Objekte einer Klasse gleich und können unabhängig von einem Objekt abgerufen werden.\n",
    "\n",
    "Im Rahmen von AlgDat wird das nicht gebraucht. Ich will es hier nur an der Stelle erwähnt haben.\n",
    "```Python\n",
    "class meineKlasse:\n",
    "\tklassen_id = 2 # Klassenattribut\n",
    "```\n",
    "\n",
    "Viel Interessanter hier sind Instanzattribute.\n",
    "Also jene attribute, welche sich von Instanz zu Instanz bzw. von Objekt zu Objekt unterscheiden.\n",
    "Diese werden in der Regel im Konstruktor der Klasse deklariert und initialisiert.\n",
    "\n",
    "Ein Attribut in Python muss genauso wie eine herkömmliche Variable auch, initialisiert sein.\n",
    "\n",
    "Eine Deklaration ohne Initialisation wie\n",
    "```C\n",
    "int i;\n",
    "```\n",
    "ist in Python also nicht möglich.\n",
    "\n",
    "Ist im Endeffekt auch nicht schlimm, da man jedem Wert, den man nicht initialisieren möchte einen Nullwert geben kann.\n",
    "In Python wäre dies das Keyword <code>None</code>\n",
    "\n",
    "Einer Variable mit dem Wert <code>None</code> kann im Nachhinein alles zugewiesen werden. \n",
    "Seien es Integer, Strings oder gar Instanzen einer Klasse. Dynamic Typing macht es möglich."
   ]
  },
  {
   "cell_type": "markdown",
   "id": "f1b0b8ce-bb55-4d03-b2e8-4f2fe4d51d53",
   "metadata": {},
   "source": [
    "## Methoden und Konstruktor"
   ]
  },
  {
   "cell_type": "markdown",
   "id": "5b493adc-a20d-4f07-8ef8-eef8a22535fe",
   "metadata": {},
   "source": [
    "Methoden werden in dem Indentierungsblock der Klasse mit dem Keyword <code>def</code> erstellt.\n",
    "Wie der Konstruktor auszusehen hat, ist in Python genau definiert.\n",
    "<!--&#95; ist der HTML code für einen underscore-->\n",
    "Im Gegensatz zu anderen Programmiersprachen, wo der Konstruktor den Namen der Klasse hat, muss der Konstruktor in Python den Namen <code>&#95;&#95;init&#95;&#95;</code> haben. Ist einfach so definiert. Wenn man ein Objekt dieser Klasse erstellt, wird der Konstruktor automatisch aufgerufen. Der Konstruktor kann natürlich auch Parameter erhalten. Diese können ebenfalls Defaultwerte enthalten. Es gelten die gleichen Regeln wie für Defaultwerten bei normale Funktionen auch.\n",
    "\n",
    "Für den Konstruktor als auch für andere Methoden gilt, dass selbst bei Methoden ohne Parameter, ein Parameter hinzuzufügen ist.\n",
    "Der erste Parameter, der an eine Methode übergeben wird, ist die Instanz der Klasse. Das passiert automatisch und man kann es nicht verhindern.\n",
    "\n",
    "Laut konvention bezeichnet man diesen Parameter als <code>self</code>. Man kann ihn wenn man wirklich möchte aber auch anders nennen.\n",
    "Um Attribute einer Instanz zu erzeugen, muss die Instanz mit <code>self</code> oder wie auch immer man es nennen möchte, angesprochen werden.\n",
    "Um auf Attribute oder Funktionen einer Klasse zuzugreifen, wird der Punktoperator genutzt.\n",
    "\n",
    "Beispiel einer Klasse mit Konstruktor:\n",
    "```Python\n",
    "class meineKlasse:\n",
    "\tdef __init__(self, a_input, b_input):\n",
    "\t\tself.a = a_input\n",
    "\t\tself.b = b_input\n",
    "\t\tself.c = None \t\t# None ist das Python Äquivalent zu NULL\n",
    "\n",
    "meine_instanz = meineKlasse(1,2) # Konstruktor Aufruf mit Parametern\n",
    "print(meine_instanz.a)\n",
    "# 1\n",
    "print(meine_instanz.b)\n",
    "# 2\n",
    "print(meine_instanz.c)\n",
    "# None\n",
    "```\n",
    "\n",
    "Nun ein Beispiel mit einem Konstruktor, einer Methode und einer lokalen Variable im Konstruktor:\n",
    "```Python\n",
    "class meineKlasse:\n",
    "\tdef __init__(self, a_input, b_input):\n",
    "\t\tself.a = a_input\n",
    "\t\tself.b = b_input\n",
    "\t\tself.c = None\n",
    "\t\td = 5 \t# Kein \"self.\" davor, also lokale Variable und kein Attribut. Der Wert existiert nur im Konstruktor\n",
    "\n",
    "\tdef berechne_c(self, faktor_von_a):\n",
    "\t\tself.c = self.a * faktor_von_a + self.b # Formel: c = a * faktor + b\n",
    "\t\tself.e = 8\t\t# Das attribut e kann auch außerhalb des Konstruktors noch hinzugefügt werden.\n",
    "\n",
    "\n",
    "meine_instanz = meineKlasse(1,2)\n",
    "print(meine_instanz.a)\n",
    "# 1\n",
    "print(meine_instanz.b)\n",
    "# 2\n",
    "print(meine_instanz.c)\n",
    "# None\n",
    "\n",
    "meine_instanz.berechne_c(3)\n",
    "print(meine_instanz.c)\n",
    "# 5\n",
    "\n",
    "print(meine_instanz.e)\n",
    "# 8\n",
    "\n",
    "print(meine_instanz.d)\n",
    "# AttributeError: 'meineKlasse' object has no attribute 'd'\n",
    "# --> d ist kein Attribut der Klasse, sondern war nur eine lokale Variable im Konstruktor\n",
    "```\n",
    "\n",
    "Nicht vergessen, dass bei jedem Attribut einer Instanz innerhalb einer Methode der Präfix <code>self.</code> geschrieben werden soll."
   ]
  }
 ],
 "metadata": {
  "kernelspec": {
   "display_name": "Python 3 (ipykernel)",
   "language": "python",
   "name": "python3"
  },
  "language_info": {
   "codemirror_mode": {
    "name": "ipython",
    "version": 3
   },
   "file_extension": ".py",
   "mimetype": "text/x-python",
   "name": "python",
   "nbconvert_exporter": "python",
   "pygments_lexer": "ipython3",
   "version": "3.9.13"
  }
 },
 "nbformat": 4,
 "nbformat_minor": 5
}