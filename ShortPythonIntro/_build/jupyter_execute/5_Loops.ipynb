{
 "cells": [
  {
   "cell_type": "markdown",
   "id": "707f8ac7-62b3-4d98-a5fd-fa4b1468a280",
   "metadata": {},
   "source": [
    "# Schleifen"
   ]
  },
  {
   "cell_type": "markdown",
   "id": "de8027d5-0713-4d9d-83e1-28ea9f512e7b",
   "metadata": {},
   "source": [
    "## **DIESE PYTHON EINFÜHRUNG IST WORK-IN-PROGRESS. ES KÖNNEN NOCH ÄNDERUNGEN VORGENOMMEN WERDEN.**"
   ]
  },
  {
   "cell_type": "markdown",
   "id": "730fc066-b898-4d3b-89ed-67b026582825",
   "metadata": {},
   "source": [
    "Gängige Schleifen gibt es in Python ebenfalls mit den aus anderen Programmiersprachen bekannten Keywords <code>for</code> und <code>while</code>\n",
    "\n",
    "Hier unterscheidet Python sich von den C-ähnlichen Programmiersprachen.\n",
    "Nicht von Idee her, aber von Syntax.\n",
    "\n",
    "\n",
    "## For-Schleife\n",
    "\n",
    "Etwa soll in C mit einer for-loop ein Codeblock so oft ausgeführt werden, wie es verschiedene Werte für die Zählervariable gibt. \n",
    "Im Modul AlgDat werden üblicherweise einbuchstabige Namen für die Zählervariablen gewählt.\n",
    "Das wären größtenteils <code>i</code> und <code>j</code>.\n",
    "\n",
    "Python geht bei Schleifen wie folgt vor:\n",
    "Als Input in die Schleife erhält man keine Formel und Bedinung, mit welcher diese Zählervariablen berechnet werden sollen, sondern übergibt man ein \n",
    "\"iterable\" object.\n",
    "Also ein Array-artiges Object, wo man auf Basis von Indizes unterscheidet.\n",
    "\n",
    "In C würde man eine <code>For-Schleife</code> startend bei <code>0</code> mit Schrittweite <code>1</code> so erstellen:\n",
    "```C\n",
    "for (int i = 0; i < wert_für_i_welcher_nicht_mehr_dazugehören_soll; i++) {\n",
    "\t<Codeblock>\n",
    "}\n",
    "```\n",
    "Mit der Formel könnte man die einzelnen Werte für <code>i</code> berechnen.\n",
    "Man fängt bei <code>i = 0</code> an und inkrementiert um <code>1</code>, bis der Wert erreicht wird, wo die Bedingung in der Mitte nicht mehr den Wahrheitswert <code>wahr</code> zurückgibt.\n",
    "\n",
    "\n",
    "In Python würde man hingegeben naiv die Werte <code>0</code> bis zum Grenzwert in Form einer List übergeben.\n",
    "\n",
    "Folgendes Beispiel in C:\n",
    "```C\n",
    "for (int i = 0; i < 5; i++) {\n",
    "\t<Codeblock>\n",
    "}\n",
    "```\n",
    "würde man in Python folgendermaßen erstellen:\n",
    "```Python\n",
    "for i in [0, 1, 2, 3, 4]:\n",
    "\t<Codeblock>\n",
    "```\n",
    "Das Keyword <code>in</code> sagt hier, dass der jeweils aktuelle Wert der List <code>[0, 1, 2, 3, 4]</code> als <code>i</code> anzusprechen sei.\n",
    "\n",
    "Das Keyword kann nebenbei ebenfalls sehr einfach genutzt werden um festzustellen ob ein Wert in einer Liste enthalten ist.\n",
    "\n",
    "```Python\n",
    "x = [1,2,3,4,5]\n",
    "print(3 in x)\n",
    "# True\n",
    "# --> da 3 in x enthalten ist.\n",
    "```\n",
    "### Die angenehmste Methode ist die range() Funktion\n",
    "\n",
    "Man will natürlich nicht jeden Index einzeln schreiben, deshalb gibt es die sogenannte <code>range()</code> funktion.\n",
    "Diese erhält unter anderem zwei Zahlen als Parameter.\n",
    "Die erste ist die Zahl von wo aus gestartet werden soll.\n",
    "Die zweite ist die Zahl, welche nicht mehr dazugehören soll.\n",
    "Standardmäßig beträgt die Schrittweite <code>1</code>.\n",
    "Man kann jedoch auch als dritten Parameter die Schrittweite angeben. \n",
    "Die kann sowohl positiv als auch negativ sein, bei negativen Schrittweiten muss man jedoch darauf aufpassen, dass das erste Argument größer ist als das zweite Argument.\n",
    "\n",
    "```Python\n",
    "range(0, n)\n",
    "```\n",
    "gibt also eine iterable Datenstruktur mit den Zahlen <code>0</code> bis <code>n-1</code> zurück.\n",
    "Technisch gesehen ist es was anderes als eine List von <code>0</code> bis <code>n-1</code>.\n",
    "Man kann es aber mit <code>list(range(0, n))</code> zu eben einer Liste von <code>0</code> bis <code>n-1</code> casten.\n",
    "Für die For-Schleife ist dieser Cast jedoch nicht nötig.\n",
    "\n",
    "Eine praktischere Variante des oberen Python codes wäre also\n",
    "```Python\n",
    "for i in range(0, 5):\n",
    "\t<Codeblock>\n",
    "```\n",
    "\n",
    "Will man nun eine absteigende For-Schleife von <code>10</code> bis inklusive <code>3</code> mit Schrittweite <code>1</code>, dann kann man dies so machen:\n",
    "\n",
    "```Python\n",
    "for i in range(10, 2, -1):\n",
    "    <Mache etwas mit i>\n",
    "```\n",
    "Die For-Schleife startet bei <code>10</code> und geht bis exklusive <code>2</code>.\n",
    "Da wird die Schleife bis inklusive <code>3</code> haben wollen, geben wir den Wert an der bereits **nicht** dazugehören soll, also die Zahl <code>2</code>.\n",
    "Die <code>-1</code> als drittes Argument gibt an, dass die Schrittweite <code>-1</code> betragen soll.\n",
    "\n",
    "Alternativ kann man die range von <code>3</code> bis inklusive <code>10</code> (bis exklusive <code>11</code>) nehmen und diese mit der <code>reversed()</code> Funktion umdrehen:\n",
    "```Python\n",
    "for i in reversed(range(3, 11)):\n",
    "    <Mache etwas mit i>\n",
    "```\n",
    "\n",
    "### Iterieren durch ein iterierbares Objekt\n",
    "\n",
    "Jetzt kommt man zu dem sehr angenehmen Teil von Python wenn es darum geht über eine List zu iterieren.\n",
    "Beim iterieren will man meistens logisch gesehen für jeden Eintrag in einer List, den Codeblock mit diesem Objekt ausführen.\n",
    "Anstatt dabei jetzt mit Indexen zu arbeiten, kann man auch direkt durch die List iterieren, so wie man es intuitiv machen würde.\n",
    "\n",
    "Aussehen würde es so:\n",
    "```Python\n",
    "for person in personen:\n",
    "\t<mach etwas mit person>\n",
    "```\n",
    "Man kann es sich so vorstellen, als ob <code>person</code> ein shortcut wäre für <code>personen[i]</code>, wo <code>i</code> der jeweils aktuelle Index des Objekts ist.\n",
    "\n",
    "Wenn man aber explizit mit indizes arbeiten möchte, hält Python einen davon natürlich nicht ab, wie gewohnt mit Indizes zu arbeiten.\n",
    "Das würde dann so aussehen:\n",
    "```Python\n",
    "for i in range(0, len(personen)):\n",
    "\t<mach etwas mit personen[i]>\n",
    "```\n",
    "Da in <code>range(0, len(personen))</code>, die Werte von <code>0</code> bis <code>len(personen)-1</code> vertreten sind, werden alle Indizes der List <code>personen</code> abgedeckt.\n",
    "\n",
    "\n",
    "## While-Schleife\n",
    "\n",
    "Hier wird ein Codeblock so oft ausgeführt, bis die Bedinung nicht mehr gilt.\n",
    "```Python\n",
    "while bedingung:\n",
    "\t<Codeblock>\n",
    "```\n",
    "Beispiel:\n",
    "```Python\n",
    "while n > 0:\n",
    "\tn -= 1\n",
    "```\n",
    "Man beachte, dass es in C zwei Arten von While-Schleifen gibt.\n",
    "Die normale While-Schleife`\n",
    "```C\n",
    "while(bedingung) {\n",
    "\t<Codeblock>\n",
    "}\n",
    "```\n",
    "und die Do-while-Schleife\n",
    "```C\n",
    "do {\n",
    "\t<Codeblock>\n",
    "} \n",
    "while(bedingung)\n",
    "```\n",
    "\n",
    "Bei letzterem wird die Bedingung erst nach Ausführen des Codeblocks überprüft.\n",
    "Diese Option gibt es nicht in Python.\n",
    "Will man dieses Verhalten in Python imitieren, so muss man mit einer Infinite loop und bedingten <code>breaks</code> als Workaround arbeiten.\n",
    "\n",
    "<code>break</code> beendet manuell die aktuelle Schleife. Bei einer Infinite loop ist <code>break</code> die einzige Option, die Schleife zu beenden.\n",
    "\n",
    "```Python\n",
    "while True: # Infinite loop\n",
    "\tif not bedingung:\n",
    "\t\tbreak\n",
    "\t<Codeblock>\n",
    "```\n",
    "Do-while-Schleifen werden eher seltener benutzt, deshalb wird man ihr Fehlen in Python eher weniger spüren, vor allem da es wie gezeigt, auch einen Workaround gibt. Dieser Workaround muss in der AlgDat Veranstaltung meines Wissens nach, ein mal angewandt werden bei dem source code vom Quicksort mit Hoare Partition."
   ]
  },
  {
   "cell_type": "markdown",
   "id": "e5ea29b4-253b-4867-ab59-d02878b45d11",
   "metadata": {},
   "source": [
    "# Aufgabe"
   ]
  },
  {
   "cell_type": "markdown",
   "id": "9a2eaeca-1471-4596-b063-9b2e09c5e7e3",
   "metadata": {},
   "source": [
    "Jemand hat ein Programm in C geschrieben und offenbar ist etwas schief gelaufen. Die Indentierung wurde gelöscht. Ihre Aufgabe war es, das Programm in Python umzuschreiben, damit man einen Performancevergleich der beiden Programme durchführen kann. Dass die Indentierung verschwunden ist, macht Ihr Leben sicherlich nicht einfacher."
   ]
  },
  {
   "cell_type": "markdown",
   "id": "8a2f354b-69a2-4fe6-848c-f43d9da2ecf2",
   "metadata": {},
   "source": [
    "```C\n",
    "int result = 0;\n",
    "for (int i = 0; i < 3; i++) {\n",
    "result = result + i * 3;\n",
    "for (int j = 3; j > 1; j--) {\n",
    "result -= j;    \n",
    "int k = 5;\n",
    "while (k > i) {\n",
    "result += j;\n",
    "k = k / 2;\n",
    "}\n",
    "}\n",
    "}    \n",
    "printf(\"%d\", result);\n",
    "```"
   ]
  },
  {
   "cell_type": "markdown",
   "id": "2ece9140-3f4f-4c91-a806-fe5d7e458820",
   "metadata": {},
   "source": [
    "Jemand hat für Sie schon Vorarbeit geleistet und hat den Großteil des Programms bereits in Python geschrieben. Es fehlen nur noch die Schleifen, wessen Stellen diese Person mit der Markierung <code>&lt;Loop&gt;</code> angegeben hat. Die Indentierung für die hinzuzufügenden Schleifen wurde ebenfalls gelöscht. Die Person hat den Großteil des Programms auskommentiert. Ihre Aufgabe ist es nun, das Auskommentieren rückgängig zu machen und die passende Schleifen an die korrekte Stellen einzufügen. Für das Rückgängig machen des Auskommentierens, sollen Sie die triple-quotes(<code>\"\"\"</code>) entfernen. Achten Sie ebenfalls auf korrekte Indentierung. Die Funktionsweise der Schleifen können Sie im obigen C Code nachgucken."
   ]
  },
  {
   "cell_type": "code",
   "execution_count": 1,
   "id": "47bef323-6790-4805-bc44-aa11224657f6",
   "metadata": {},
   "outputs": [
    {
     "name": "stdout",
     "output_type": "stream",
     "text": [
      "0\n"
     ]
    }
   ],
   "source": [
    "# Ersetzen Sie \"<Loop>\" durch die jeweils korrekten Schleifen.\n",
    "# Achten Sie auf korrekte Indentierung.\n",
    "result = 0\n",
    "\"\"\"\n",
    "<Loop>\n",
    "result = result + i * 3 \n",
    "<Loop>\n",
    "result -= j\n",
    "k = 5\n",
    "<Loop>\n",
    "result += j\n",
    "k = k // 2\n",
    "\"\"\"\n",
    "print(result)"
   ]
  },
  {
   "cell_type": "markdown",
   "id": "6095eebd-1fcf-49be-9bd3-1674ceffddfc",
   "metadata": {},
   "source": [
    "# Der C-Code mit Indentierung"
   ]
  },
  {
   "cell_type": "markdown",
   "id": "070c77f0-6ffe-45ec-8828-713c687b56de",
   "metadata": {},
   "source": [
    "```{toggle}\n",
    "```C\n",
    "int result = 0;\n",
    "for (int i = 0; i < 3; i++) {\n",
    "    result = result + i * 3;\n",
    "    for (int j = 3; j > 1; j--) {\n",
    "        result -= j;    \n",
    "        int k = 5;\n",
    "        while (k > i) {\n",
    "            result += j;\n",
    "            k = k / 2;\n",
    "        }\n",
    "    }\n",
    "}    \n",
    "printf(\"%d\", result);\n",
    "// 24 \n",
    "```"
   ]
  },
  {
   "cell_type": "markdown",
   "id": "22e07fcf-0978-4e25-a80a-9c5912563fe6",
   "metadata": {},
   "source": [
    "# Lösung"
   ]
  },
  {
   "cell_type": "code",
   "execution_count": 2,
   "id": "ebac20d1-1511-4dc4-b2a1-8f87d4f394d3",
   "metadata": {
    "tags": [
     "hide-cell"
    ]
   },
   "outputs": [
    {
     "name": "stdout",
     "output_type": "stream",
     "text": [
      "24\n"
     ]
    }
   ],
   "source": [
    "result = 0\n",
    "for i in range(0, 3):\n",
    "    result = result + i * 3 \n",
    "    for j in range(3, 1, -1):\n",
    "        result -= j\n",
    "        k = 5\n",
    "        while k > i:\n",
    "            result += j\n",
    "            k = k // 2\n",
    "print(result)\n",
    "# 24"
   ]
  },
  {
   "cell_type": "markdown",
   "id": "7f509b4d-d70f-4e84-a1b3-f08f6595ff07",
   "metadata": {},
   "source": []
  },
  {
   "cell_type": "code",
   "execution_count": null,
   "id": "6e293c70-d2e5-4cc4-833c-d03d9e4a54a9",
   "metadata": {},
   "outputs": [],
   "source": []
  },
  {
   "cell_type": "code",
   "execution_count": null,
   "id": "5c833c52-eb4d-4928-81c9-ef764c118de3",
   "metadata": {},
   "outputs": [],
   "source": []
  }
 ],
 "metadata": {
  "kernelspec": {
   "display_name": "Python 3 (ipykernel)",
   "language": "python",
   "name": "python3"
  },
  "language_info": {
   "codemirror_mode": {
    "name": "ipython",
    "version": 3
   },
   "file_extension": ".py",
   "mimetype": "text/x-python",
   "name": "python",
   "nbconvert_exporter": "python",
   "pygments_lexer": "ipython3",
   "version": "3.9.13"
  }
 },
 "nbformat": 4,
 "nbformat_minor": 5
}