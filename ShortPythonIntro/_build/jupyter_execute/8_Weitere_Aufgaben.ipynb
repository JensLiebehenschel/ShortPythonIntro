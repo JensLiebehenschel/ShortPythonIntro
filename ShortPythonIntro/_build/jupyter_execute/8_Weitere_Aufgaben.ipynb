{
 "cells": [
  {
   "cell_type": "markdown",
   "id": "756859c9-4c8f-4222-ba5f-fb054e93d934",
   "metadata": {},
   "source": [
    "# Weitere Aufgaben"
   ]
  },
  {
   "cell_type": "markdown",
   "id": "959281eb-65bf-46a0-a68f-f37a4b0b66b6",
   "metadata": {},
   "source": [
    "## **DIESE PYTHON EINFÜHRUNG IST WORK-IN-PROGRESS. ES KÖNNEN NOCH ÄNDERUNGEN VORGENOMMEN WERDEN.**"
   ]
  },
  {
   "cell_type": "markdown",
   "id": "2ca881b9-04cd-4e71-8534-ffd2668c84fa",
   "metadata": {},
   "source": [
    "## FizzBuzz"
   ]
  },
  {
   "cell_type": "markdown",
   "id": "9c8b07e6-8cf7-48e9-8e7f-bbb441c3aba1",
   "metadata": {},
   "source": [
    "Eine sehr beliebte Aufgabe für Einsteiger einer Programmiersprache, ist das FizzBuzz Problem.\n",
    "\n",
    "Das Problem sieht wie folgt aus:\n",
    "\n",
    "- Es sollen die Zahlen 1 bis inklusive 100 untereinander ausgegeben werden.\n",
    "\n",
    "- Hierbei sollen jedoch Zahlen, welche durch 3 teilbar sind, durch den String <code>\"Fizz\"</code> ersetzt werden.\n",
    "\n",
    "- Zahlen, welche durch 5 teilbar sind, sollen durch den String <code>\"Buzz\"</code> ersetzt werden.\n",
    "\n",
    "- Wenn eine Zahl durch 3 als auch durch 5 teilbar ist, soll die Zahl durch den String <code>\"FizzBuzz\"</code> ersetzt werden\n",
    "\n",
    "\n",
    "Der Output soll so aussehen:"
   ]
  },
  {
   "cell_type": "markdown",
   "id": "22b69d88-a53c-4b5d-a929-3eb2a277b742",
   "metadata": {},
   "source": [
    "```\n",
    "Output    (Zahl)\n",
    "\n",
    "1         1\n",
    "2         2\n",
    "Fizz      3\n",
    "4         4\n",
    "Buzz      5\n",
    "Fizz      6\n",
    "7         7\n",
    "8         8\n",
    "Fizz      9\n",
    "Buzz      10\n",
    "11        11\n",
    "Fizz      12\n",
    "13        13\n",
    "14        14\n",
    "FizzBuzz  15\n",
    "16        16\n",
    "...       ...\n",
    "98        98\n",
    "Fizz      99\n",
    "Buzz      100\n",
    "```\n",
    "\n",
    "Die Zahlen rechts sind nur zur Veranschaulichung da. Sie müssen diese nicht ausgeben lassen!"
   ]
  },
  {
   "cell_type": "markdown",
   "id": "fd2ae336-ee2f-45b2-bc6c-8c4278def4b0",
   "metadata": {},
   "source": [
    "### Ihre Antwort"
   ]
  },
  {
   "cell_type": "code",
   "execution_count": 1,
   "id": "b68a64a7-aed5-4337-94b4-e6f5237e2478",
   "metadata": {},
   "outputs": [],
   "source": [
    "# Hier können Sie das FizzBuzz Problem lösen\n"
   ]
  },
  {
   "cell_type": "markdown",
   "id": "f98ebdb3-dd56-409d-a92d-d5d2c39f0314",
   "metadata": {
    "tags": []
   },
   "source": [
    ":::{admonition} Lösung für FizzBuzz\n",
    ":class: dropdown\n",
    "\n",
    "```Python\n",
    "for number in range(1, 101):\n",
    "    if number % 3 == 0 and number % 5 == 0:\n",
    "        print(\"FizzBuzz\")\n",
    "    elif number % 3 == 0:\n",
    "        print(\"Fizz\")\n",
    "    elif number % 5 == 0:\n",
    "        print(\"Buzz\")\n",
    "    else:\n",
    "        print(number)\n",
    "```\n",
    "\n",
    "Erklärung der obigen Lösung: \n",
    "\n",
    "<code>range(1, 101)</code>, da es bei <code>1</code> starten soll und bis inklusive <code>100</code> gehen soll. (Inklusive <code>100</code> --> Exklusive <code>101</code> --> <code>range(1, 101)</code>)\n",
    "\n",
    "Zahl ist durch <code>n</code> teilbar --> <code>zahl % n == 0</code>.\n",
    "\n",
    "Sprich: Es gibt keinen Rest bei der Division <code>zahl / n</code>.\n",
    "\n",
    "Es gibt viele Lösungen für diese bekannte Programmieraufgabe. Man könnte etwa mit Strings arbeiten und bei bedarf Fizz und Buzz konkatenieren.\n",
    "Alternativ könnte man auch mit Lambdas arbeiten, das ist hier definitiv aber nicht von Relevanz.\n",
    "\n",
    ":::"
   ]
  },
  {
   "cell_type": "markdown",
   "id": "0bd1aa3b-c2d0-43f0-b95a-0a84278c3146",
   "metadata": {},
   "source": [
    "## Palindrome"
   ]
  },
  {
   "cell_type": "markdown",
   "id": "52210d61-1039-4584-b0d7-d4da43ca2f9b",
   "metadata": {},
   "source": [
    "Ein Palindrom ist ein Wort, welches egal ob von links nach rechts oder von rechts nach links gelesen, identisch ist. \n",
    "\n",
    "Sprich: Man kann das Wort in der Mitte des Wortes spiegeln und es verändert sich nichts.\n",
    "\n",
    "Beispiele: Radar, Rentner\n",
    "\n",
    "```\n",
    "Wort:   R A D A R\n",
    "Index:  0 1 2 3 4\n",
    "\n",
    "Wort:   R A D A R\n",
    "Index:  4 3 2 1 0\n",
    "```\n",
    "\n",
    "Egal ob man \"Radar\" von links nach rechts oder von rechts nach links liest, verändert sich das Wort nicht. Groß- und Kleinschreibung soll ignoriert werden."
   ]
  },
  {
   "cell_type": "markdown",
   "id": "263da7cb-9127-49c9-ba16-578ba9899211",
   "metadata": {},
   "source": [
    "Ihre Aufgabe ist es nun eine Funktion zu schreiben, welche ein Wort als Input erhält und zurückggibt ob es sich um ein Palindrom handelt oder nicht.\n",
    "Wenn es sich um ein Palindrom handelt, wird <code>True</code> zurückgegeben. Ansonsten <code>False</code>.\n",
    "Um es zu vereinfachen, gehen Sie davon aus, dass wirklich nur ein Wort angegeben wird. Also keine Leerzeichen, usw. Zusätzlich wird das Wort nur in Kleinbuchstaben angegeben. Statt \"Radar\" würde also etwa \"radar\" eingegeben werden."
   ]
  },
  {
   "cell_type": "code",
   "execution_count": 2,
   "id": "163d7f83-387e-48a3-8edc-0791697bc633",
   "metadata": {},
   "outputs": [],
   "source": [
    "# Hier können Sie das Palindrom Problem lösen\n"
   ]
  },
  {
   "cell_type": "markdown",
   "id": "2ebdc216-0ec4-49d2-9cee-4184ca3df405",
   "metadata": {},
   "source": [
    ":::{admonition} Lösung für Palindrome\n",
    ":class: dropdown\n",
    "\n",
    "Die wahrscheinlich einfachste Variante. Man kehrt den String einfach um. Wenn der umgekehrte String dem eigentlichen String gleicht, so handelt es sich um ein Palindrom.\n",
    "Um den String umzukehren, erstellt man einen leeren String und konkateniert alle Buchstaben des eigentlichen Strings, jedoch fängt man von hinten an. Deswegen <code>reversed(range())</code>.\n",
    "Man muss konkatenieren anstatt eine Indexzuweisung zu machen, da Strings in Python <code>immutable</code> sind und somit man nicht einen bestimmten Buchstaben an einem beliebigen Index verändern kann. \n",
    "\n",
    "```Python\n",
    "def palindrom_string_reversal(string):\n",
    "    reversed_string = \"\"\n",
    "    for index in reversed(range(0, len(string))):\n",
    "        reversed_string += string[index]\n",
    "    return string == reversed_string\n",
    "\n",
    "```\n",
    "\n",
    "Bei einer anderen Variante, muss man den String gar nicht umkehren. Alle Vergleiche werden im selben String durchgeführt.\n",
    "Hier guckt man ob der erste Buchstabe von links dem ersten Buchstaben von rechts gleicht. Dann guckt man ob der zweite Buchstabe von links dem zweiten Buchstaben von rechts gleicht. Dies macht man bis man in der Mitte angekommen ist. Wenn man dort ankommt und man keine Stelle gefunden hat, wo auf beiden Seiten nicht das gleiche steht, so handelt es sich um ein Palindrom. Wenn man irgendwo einen Widerspruch findet, wird sich gemerkt, dass es kein Palindrom ist und der Vergleich wird abgebrochen, da ein Widerspruch ausreicht, damit es kein Palindrom ist.\n",
    "\n",
    "Erklärung des Codes:\n",
    "\"es_ist_ein_palindrom\" wird auf <code>True</code> gesetzt, da man am Anfang davon ausgeht, dass es sich um ein Palindrom handelt.\n",
    "Für die Zählervariable wird der Bereich <code>range(0, len(string) // 2)</code> genutzt. Mit <code>len(string)</code> erhält man die Länge des Wortes. Mit dem <code>//</code> Operator, führt man eine Division durch und rundet das Ergebnis auf den nächstkleineren Integerwert. Man kann durch ausprobieren überprüfen, dass die Zählervariable bei einer geraden Wortlänge bei dem linken der beiden mittleren Buchstaben endet und bei Worten mit ungerader Wortlänge, endet die Zählervariable links von dem mittleren Buchstaben, da der mittlere Buchstabe selbst nicht überprüft werden muss, da dieser genau in der Mitte ist und eine Spiegelung nichts an diesem Buchstaben ändern kann.\n",
    "\n",
    "Um sowohl auf einen linken als auch auf einen rechten Buchstaben zuzugreifen, benutzt man die Indizes <code>index</code> und <code>-(index+1)</code>. Mit dem Index <code>-1</code> greift man auf das erste Element von rechts zu. Da Indizes aber bei <code>0</code> starten, muss man auf den negativen Index <code>1</code> addieren.\n",
    "\n",
    "Die in Verbindung stehenden Paare wäre also die Indizes <code>{0, -1}, {1, -2}, {2, -3}, {3, -4}, ...</code>\n",
    "Allgemein: <code>{index, -(index+1)}</code>. So kommt man auf die Formel. \n",
    "\n",
    "Wenn es nun eine Stelle gibt, welche die Voraussetzung für ein Palindrom verletzt, so wird \"es_ist_ein_palindrom\" auf <code>False</code> gesetzt. Optional um Zeit zu sparen, kann man mit <code>break</code> die For-Schleife beenden, da bereits gezeigt wurde, dass es sich nicht um ein Palindrom handelt. Somit sind weitere Vergleiche nutzlos.\n",
    "\n",
    "Schließlich gibt man zuück ob es sich ein Palindrom handelt oder nicht.\n",
    "\n",
    "```Python\n",
    "def palindrom_von_beiden_seiten_pruefen(string):\n",
    "    es_ist_ein_palindrom = True\n",
    "    for index in range(0, len(string) // 2):\n",
    "        if string[index] != string[-(index+1)]:\n",
    "            es_ist_ein_palindrom = False\n",
    "            break\n",
    "    return es_ist_ein_palindrom\n",
    "```\n",
    "\n",
    ":::"
   ]
  },
  {
   "cell_type": "code",
   "execution_count": null,
   "id": "e86324cd-15f8-44a7-9337-e0bf41237d48",
   "metadata": {},
   "outputs": [],
   "source": []
  }
 ],
 "metadata": {
  "kernelspec": {
   "display_name": "Python 3 (ipykernel)",
   "language": "python",
   "name": "python3"
  },
  "language_info": {
   "codemirror_mode": {
    "name": "ipython",
    "version": 3
   },
   "file_extension": ".py",
   "mimetype": "text/x-python",
   "name": "python",
   "nbconvert_exporter": "python",
   "pygments_lexer": "ipython3",
   "version": "3.9.13"
  }
 },
 "nbformat": 4,
 "nbformat_minor": 5
}