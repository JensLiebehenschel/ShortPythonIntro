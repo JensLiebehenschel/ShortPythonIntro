{
 "cells": [
  {
   "cell_type": "markdown",
   "id": "9a0aba3c-96ad-4989-a3bf-86dcb9272259",
   "metadata": {},
   "source": [
    "# Interaktivität dieser Einführung"
   ]
  },
  {
   "cell_type": "markdown",
   "id": "545aa5a2-faf6-4e6b-a120-90d457abed37",
   "metadata": {},
   "source": [
    "## **DIESE PYTHON EINFÜHRUNG IST WORK-IN-PROGRESS. ES KÖNNEN NOCH ÄNDERUNGEN VORGENOMMEN WERDEN.**"
   ]
  },
  {
   "cell_type": "markdown",
   "id": "218ec55b-2e5d-44f5-bb57-affd3d37d019",
   "metadata": {},
   "source": [
    "TODO: Erklären wie Interaktivität mit Thebe funktioniert (sobald es funktioniert)..."
   ]
  },
  {
   "cell_type": "markdown",
   "id": "e84f77aa-dea7-49fe-a08a-c5d30d31a681",
   "metadata": {},
   "source": [
    "Um die Interaktivität zu testen, können Sie den unten stehenden Bereich nutzen um Code zu schreiben und auszuführen."
   ]
  },
  {
   "cell_type": "code",
   "execution_count": 1,
   "id": "daf24698-0c4a-47f8-8cb6-f2805b142834",
   "metadata": {},
   "outputs": [],
   "source": [
    "# Hier können Sie Code ausführen, wenn Sie Interaktivität angeschaltet haben.\n"
   ]
  }
 ],
 "metadata": {
  "kernelspec": {
   "display_name": "Python 3 (ipykernel)",
   "language": "python",
   "name": "python3"
  },
  "language_info": {
   "codemirror_mode": {
    "name": "ipython",
    "version": 3
   },
   "file_extension": ".py",
   "mimetype": "text/x-python",
   "name": "python",
   "nbconvert_exporter": "python",
   "pygments_lexer": "ipython3",
   "version": "3.9.13"
  }
 },
 "nbformat": 4,
 "nbformat_minor": 5
}