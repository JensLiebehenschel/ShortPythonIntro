{
 "cells": [
  {
   "cell_type": "markdown",
   "id": "e2299890-672b-4655-bb01-0a77858f09b0",
   "metadata": {},
   "source": [
    "# Logische Ausdrücke"
   ]
  },
  {
   "cell_type": "markdown",
   "id": "49b663cc-7c9d-4d08-a90d-3f1ff2870205",
   "metadata": {},
   "source": [
    "## **DIESE PYTHON EINFÜHRUNG IST WORK-IN-PROGRESS. ES KÖNNEN NOCH ÄNDERUNGEN VORGENOMMEN WERDEN.**"
   ]
  },
  {
   "cell_type": "markdown",
   "id": "4acd3d3d-5db8-4040-8829-1c88e3bc0623",
   "metadata": {},
   "source": [
    "Nun geht es um logische Ausdrücke.\n",
    "\n",
    "In Python gibt es den Datentyp Boolean.\n",
    "Dieser kann zwei Werte haben: Wahr und Falsch\n",
    "\n",
    "auf Englisch True und False.\n",
    "\n",
    "<code>True</code> und <code>False</code> sind hierbei keine Strings, sondern keywords.\n",
    "Man muss mit der Groß- und Kleinschreibung aufpassen, denn es ist nur korrekt, wenn der Anfangsbuchstabe groß ist und der Rest klein.\n",
    "```Python\n",
    "Korrekt:\n",
    "x = True\n",
    "y = False\n",
    "\n",
    "Falsch:\n",
    "x = true\n",
    "y = false\n",
    "x = TRUE\n",
    "y = FALSE\n",
    "x = tRuE\n",
    "y = fAlSe\n",
    "```\n",
    "Benutzt man einen Editor mit Python Syntax Highlighting oder gar Autocompletion, wird man anhand der Hervorhebung wie beim Beispiel oben, erkennen, ob man es richtig geschrieben hat oder nicht. Zumindest bis man sich daran sowieso gewöhnt hat.\n",
    "\n",
    "\n",
    "Soviel zu Booleans.\n",
    "Nun zu Vergleichen.\n",
    "Der Vergleichsoperator, welcher auf Gleichteit prüft ist wie fast überall auch ein <code>&equals;&equals;</code>.\n",
    "```Python\n",
    "x = 5\n",
    "y = 5\n",
    "\n",
    "wahrheitsert = x == y\n",
    "print(wahrheitswert)\n",
    "# True\n",
    "```\n",
    "Vergleiche von konkreten Werten sind mit <code>&gt;,&lt;,&gt;&equals;,&lt;&equals;</code> ebenfalls möglich.\n",
    "\n",
    "Um einen booleschen Ausdruck zu negieren, benutzt man in C ein Ausrufezeichen:\n",
    "```C\n",
    "int x = 5;\n",
    "int y = 5;\n",
    "\n",
    "printf(\"%d\", !(x == y));\n",
    "// 0 bzw. False\n",
    "```\n",
    "In Python gibt es dafür das keyword <code>not</code>.\n",
    "Das oben geschriebene Beispiel in Python wäre also\n",
    "```Python\n",
    "x = 5\n",
    "y = 5\n",
    "\n",
    "print(not (x == y))\n",
    "# False\n",
    "```\n",
    "\n",
    "Die gleiche Vorgehensweise bei \"logischem und\" als auch beim \"logischem oder\".\n",
    "\n",
    "Da wird <code>&amp;&amp;</code> durch das keyword <code>and</code>, und <code>||</code> durch das keyword <code>or</code> ersetzt.\n",
    "\n",
    "```C\n",
    "int x = 5;\n",
    "int y = 5;\n",
    "int z = 3;\n",
    "\n",
    "printf(\"%d\", (x == y) && (x == z || !(y < z)))\n",
    "// 1 bzw. True\n",
    "```\n",
    "Python:\n",
    "```Python\n",
    "x = 5\n",
    "y = 5\n",
    "z = 3\n",
    "\n",
    "print((x == y) and (x == z or not (y < z)))\n",
    "# True\n",
    "```"
   ]
  }
 ],
 "metadata": {
  "kernelspec": {
   "display_name": "Python 3 (ipykernel)",
   "language": "python",
   "name": "python3"
  },
  "language_info": {
   "codemirror_mode": {
    "name": "ipython",
    "version": 3
   },
   "file_extension": ".py",
   "mimetype": "text/x-python",
   "name": "python",
   "nbconvert_exporter": "python",
   "pygments_lexer": "ipython3",
   "version": "3.9.13"
  }
 },
 "nbformat": 4,
 "nbformat_minor": 5
}
