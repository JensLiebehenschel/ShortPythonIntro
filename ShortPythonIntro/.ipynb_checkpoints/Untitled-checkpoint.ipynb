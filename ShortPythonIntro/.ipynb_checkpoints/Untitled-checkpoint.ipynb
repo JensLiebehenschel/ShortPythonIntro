{
 "cells": [
  {
   "cell_type": "markdown",
   "id": "df8922ab-8638-4ed9-9bea-75f2efc2b801",
   "metadata": {},
   "source": [
    "# Ways to hide answers"
   ]
  },
  {
   "cell_type": "markdown",
   "id": "8ac2fd15-86fd-4a77-aad1-f6d598f7dd52",
   "metadata": {},
   "source": [
    "put \n",
    "{\n",
    "    \"tags\": [\n",
    "        x\n",
    "    ]\n",
    "}\n",
    "where x is either \"hide-cell\", \"hide-input\" or \"hide-output\"\n",
    "in cell tags\n",
    "--> Click on cell. Settings icon to the right. Paste stuff above into Cell Metadata"
   ]
  },
  {
   "cell_type": "markdown",
   "id": "c2635125-5eaa-45e4-8293-605d30b0e3ae",
   "metadata": {},
   "source": [
    "````{toggle}\n",
    "\n",
    "```python\n",
    "my_output = \"Hello World!\"\n",
    "\"\"\"\n",
    "my_output = 0\n",
    "\n",
    "for i in range(1, 100+1):\n",
    "\n",
    "    sum += i\n",
    "\"\"\"\n",
    "print(my_output)\n",
    "```\n",
    "{glue:}`glued_text`\n",
    "````\n",
    "```{code-cell} ipython3\n",
    ":tags: [remove-cell]\n",
    "\n",
    "from myst_nb import glue\n",
    "my_variable = \"Hello World!\"\n",
    "glue(\"glued_text\", my_variable)\n",
    "```"
   ]
  }
 ],
 "metadata": {
  "kernelspec": {
   "display_name": "Python 3 (ipykernel)",
   "language": "python",
   "name": "python3"
  },
  "language_info": {
   "codemirror_mode": {
    "name": "ipython",
    "version": 3
   },
   "file_extension": ".py",
   "mimetype": "text/x-python",
   "name": "python",
   "nbconvert_exporter": "python",
   "pygments_lexer": "ipython3",
   "version": "3.9.13"
  }
 },
 "nbformat": 4,
 "nbformat_minor": 5
}
