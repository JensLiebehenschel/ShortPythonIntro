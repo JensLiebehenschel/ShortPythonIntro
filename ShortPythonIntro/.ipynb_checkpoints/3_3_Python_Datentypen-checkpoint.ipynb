{
 "cells": [
  {
   "cell_type": "markdown",
   "id": "4d2b2737-aa61-4f84-a6a1-06ea56b376a2",
   "metadata": {},
   "source": [
    "# Datentypen"
   ]
  },
  {
   "cell_type": "markdown",
   "id": "d3817438-108a-4062-9514-57263c809f14",
   "metadata": {},
   "source": [
    "## **DIESE PYTHON EINFÜHRUNG IST WORK-IN-PROGRESS. ES KÖNNEN NOCH ÄNDERUNGEN VORGENOMMEN WERDEN.**"
   ]
  },
  {
   "cell_type": "markdown",
   "id": "96e5f64c-7b04-4a31-a583-b4eb3db29456",
   "metadata": {},
   "source": [
    "## Dynamic Typing\n",
    "\n",
    "Python hat alle gängigen Datentypen die man aus anderen Programmiersprachen kennt. Seien es Integer, Gleitkommazahlen oder Strings.\n",
    "Der Unterschied in Python ist, dass sich der Programmierer in der Regel nicht um Datentypen kümmern muss.\n",
    "Der Grund dafür liegt in Pythons \"Dynamic Typing\"\n",
    "Hier nochmal die Erklärung.\n",
    "Beim Dynamic Typing, kümmert sich einfach gesagt, der Python Interpreter um Datentypen und der Programmierer muss diese nicht konkret angeben.\n",
    "\n",
    "Dies macht es sehr einfach mit Python zu arbeiten, da man weniger tippen muss und sich nicht überlegen zu braucht, ob etwa eine bestimmte Variable immer ein Integer bleibt, oder ob es nicht doch ein Szenario gibt, in welchem daraus eine Gleitkommazahl werden könnte.\n",
    "Wenn man eine Zahl jedoch in einem bestimmten Datentyp haben will, so kann man Typecasting machen und somit den Typen explizit angeben. Dieser kann sich dann aber trotzdem noch ändern, wenn man der Variable einen neuen Wert zuweist."
   ]
  },
  {
   "cell_type": "markdown",
   "id": "007ef0ad-1f2e-4f42-9ca1-59451b65a45a",
   "metadata": {},
   "source": [
    "```Python\n",
    "# Bei der Funktion type(x) handelt es es sich um eine Funktion, \n",
    "# welche angibt von welchem Datentypen das Objekt x ist \n",
    "\n",
    "x = 5\n",
    "print(type(x))\n",
    "# <class 'int'>\n",
    "# --> x ist intern ein Integer\n",
    "\n",
    "x = str(x)  # Typecasting von der Variable x zum Datentyp String\n",
    "print(type(x))\n",
    "# <class 'str'>\n",
    "# --> x ist nun intern ein String\n",
    "```"
   ]
  },
  {
   "cell_type": "markdown",
   "id": "f65e2e55-228e-48f5-a6af-51c6aaee9d2a",
   "metadata": {},
   "source": [
    "## Jede Variable muss initialisiert sein\n",
    "\n",
    "In Programmiersprachen wie C, unterscheidet man zwischen Deklaration und Initialisation einer Variable.\n",
    "\n",
    "Bei einer Deklaration wird kein Wert zugewiesen, sondern nur Datentyp und Name angegeben:\n",
    "```C\n",
    "int i;\n",
    "```\n",
    "Bei einer Initialisation, wird einer bereits deklarierten Variable, ein Wert zugewiesen:\n",
    "```C\n",
    "i = 5;\n",
    "```\n",
    "Man kann beides auch gleichzeitig machen mit:\n",
    "```C\n",
    "int i = 5;\n",
    "```\n",
    "In Python kann man keine Variable deklarieren ohne sie auch zu intialisieren.\n",
    "Der Fall \n",
    "```C\n",
    "int i;\n",
    "```\n",
    "ist also in Python nicht möglich.\n",
    "Es gibt jedoch Fälle, wo man deklarieren aber nicht sofort initialisieren möchte.\n",
    "Dafür kann ein Nullwert genutzt werden, damit die Variable initialisiert ist. In Python ist dies mit dem Keyword <code>None</code> möglich. \n",
    "Anschließend kann man der Variable später einen Wert zuweisen, sobald es soweit ist.\n",
    "```Python\n",
    "value = None\n",
    "print(value)\n",
    "# None\n",
    "\n",
    "value = 5\n",
    "print(value)\n",
    "# 5\n",
    "\n",
    "value = \"Hello World!\"\n",
    "print(value)\n",
    "# Hello World!\n",
    "```"
   ]
  },
  {
   "cell_type": "markdown",
   "id": "8725d6f3-5618-485b-9a04-4a7c6ab9ef15",
   "metadata": {},
   "source": [
    "## Hinweis zu Semikola\n",
    "\n",
    "Wie vom aufmerksamen Leser bereits bemerkt, hat keines dieser Statements ein Semikolon am Ende. Dies ist kein Fehler.\n",
    "Semikolons werden am Ende einer Zeile nicht benötigt.\n",
    "Der einzige Nutzen von Semikolons ist das ausführen von mehreren Statements in der selben Zeile.\\\n",
    "Beispiel:"
   ]
  },
  {
   "cell_type": "markdown",
   "id": "c59cfa9b-1ecc-4435-a2e7-bd80f13141ad",
   "metadata": {},
   "source": [
    "```Python\n",
    "x = 5; print(x)\n",
    "```"
   ]
  },
  {
   "cell_type": "markdown",
   "id": "cc58cfdf-c22c-48fb-9031-918f21e768f8",
   "metadata": {},
   "source": [
    "## Hinweis zu Strings\n",
    "\n",
    "In Python können Strings entweder mit normalen Anführungszeichen oder mit einfachen Anführungszeichen angegeben werden.\n",
    "Man kann auch innerhalb eines Programms beides benutzen, jedoch kann man nicht beides innerhalb von einem String benutzen."
   ]
  },
  {
   "cell_type": "markdown",
   "id": "5dec0556-6d0e-482a-af85-867128f0f84c",
   "metadata": {},
   "source": [
    "Gültig:\n",
    "```Python\n",
    "\"Text\"\n",
    "'Text'\n",
    "```\n",
    "\n",
    "Ungültig:\n",
    "```Python\n",
    "\"Text'\n",
    "'Text\"\n",
    "```"
   ]
  }
 ],
 "metadata": {
  "kernelspec": {
   "display_name": "Python 3 (ipykernel)",
   "language": "python",
   "name": "python3"
  },
  "language_info": {
   "codemirror_mode": {
    "name": "ipython",
    "version": 3
   },
   "file_extension": ".py",
   "mimetype": "text/x-python",
   "name": "python",
   "nbconvert_exporter": "python",
   "pygments_lexer": "ipython3",
   "version": "3.9.13"
  }
 },
 "nbformat": 4,
 "nbformat_minor": 5
}
